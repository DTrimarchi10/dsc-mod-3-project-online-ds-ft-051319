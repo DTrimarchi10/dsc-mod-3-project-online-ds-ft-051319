{
 "cells": [
  {
   "cell_type": "markdown",
   "metadata": {},
   "source": [
    "# Question 5\n",
    "\n",
    "Do certain product categories have significantly higher/lower total order prices? \n",
    "\n",
    "After looking at the initial data, I decided to focus on Meat/Poultry. \n",
    "\n",
    "Do Meat/Poultry products have a statistically significant effect on total order price?\n",
    "\n",
    "Confections       \n",
    "Beverages         \n",
    "Seafood           \n",
    "Condiments        \n",
    "Dairy Products    \n",
    "Grains/Cereals     \n",
    "Meat/Poultry       \n",
    "Produce"
   ]
  },
  {
   "cell_type": "code",
   "execution_count": 1,
   "metadata": {},
   "outputs": [],
   "source": [
    "#import libraries\n",
    "import sqlite3\n",
    "import pandas as pd\n",
    "import numpy as np\n",
    "import matplotlib.pyplot as plt\n",
    "%matplotlib inline\n",
    "import seaborn as sns\n",
    "import statsmodels.api as sm\n",
    "from statsmodels.formula.api import ols\n",
    "\n",
    "#For tukey test\n",
    "from statsmodels.stats.multicomp import pairwise_tukeyhsd\n",
    "from statsmodels.stats.multicomp import MultiComparison\n",
    "\n",
    "#For KS Test\n",
    "from scipy import stats\n",
    "\n",
    "#For Sampling, Welch's T-Test, Cohen's d - flatiron_stats.py. I have updated with my own functions.\n",
    "from flatiron_stats import p_value_welch_ttest, welch_t, cohens_d, get_sampling_means\n",
    "\n",
    "#For SQL Helpter functions\n",
    "from flatiron_sql import view_table, get_table, get_table_names\n",
    "\n",
    "#For Power Analysis\n",
    "from statsmodels.stats.power import TTestIndPower, TTestPower\n",
    "\n",
    "#significance level\n",
    "alpha = 0.05"
   ]
  },
  {
   "cell_type": "code",
   "execution_count": 2,
   "metadata": {},
   "outputs": [],
   "source": [
    "#connect to the Northwind database\n",
    "conn = sqlite3.connect(\"Northwind_small.sqlite\")"
   ]
  },
  {
   "cell_type": "markdown",
   "metadata": {},
   "source": [
    "### Data Query:\n",
    "\n",
    "I need to get OrderId, Unit Price, Quantity, ProductName, CategoryName\n",
    "\n",
    "Tables: Product, Category, OrderDetail, Order"
   ]
  },
  {
   "cell_type": "code",
   "execution_count": 3,
   "metadata": {
    "scrolled": true
   },
   "outputs": [
    {
     "data": {
      "text/html": [
       "<div>\n",
       "<style scoped>\n",
       "    .dataframe tbody tr th:only-of-type {\n",
       "        vertical-align: middle;\n",
       "    }\n",
       "\n",
       "    .dataframe tbody tr th {\n",
       "        vertical-align: top;\n",
       "    }\n",
       "\n",
       "    .dataframe thead th {\n",
       "        text-align: right;\n",
       "    }\n",
       "</style>\n",
       "<table border=\"1\" class=\"dataframe\">\n",
       "  <thead>\n",
       "    <tr style=\"text-align: right;\">\n",
       "      <th></th>\n",
       "      <th>OrderId</th>\n",
       "      <th>UnitPrice</th>\n",
       "      <th>Quantity</th>\n",
       "      <th>TotalOrderPrice</th>\n",
       "      <th>ProductName</th>\n",
       "      <th>CategoryName</th>\n",
       "    </tr>\n",
       "  </thead>\n",
       "  <tbody>\n",
       "    <tr>\n",
       "      <th>0</th>\n",
       "      <td>10248</td>\n",
       "      <td>14.0</td>\n",
       "      <td>12</td>\n",
       "      <td>168.0</td>\n",
       "      <td>Queso Cabrales</td>\n",
       "      <td>Dairy Products</td>\n",
       "    </tr>\n",
       "    <tr>\n",
       "      <th>1</th>\n",
       "      <td>10248</td>\n",
       "      <td>9.8</td>\n",
       "      <td>10</td>\n",
       "      <td>98.0</td>\n",
       "      <td>Singaporean Hokkien Fried Mee</td>\n",
       "      <td>Grains/Cereals</td>\n",
       "    </tr>\n",
       "    <tr>\n",
       "      <th>2</th>\n",
       "      <td>10248</td>\n",
       "      <td>34.8</td>\n",
       "      <td>5</td>\n",
       "      <td>174.0</td>\n",
       "      <td>Mozzarella di Giovanni</td>\n",
       "      <td>Dairy Products</td>\n",
       "    </tr>\n",
       "    <tr>\n",
       "      <th>3</th>\n",
       "      <td>10249</td>\n",
       "      <td>18.6</td>\n",
       "      <td>9</td>\n",
       "      <td>167.4</td>\n",
       "      <td>Tofu</td>\n",
       "      <td>Produce</td>\n",
       "    </tr>\n",
       "    <tr>\n",
       "      <th>4</th>\n",
       "      <td>10249</td>\n",
       "      <td>42.4</td>\n",
       "      <td>40</td>\n",
       "      <td>1696.0</td>\n",
       "      <td>Manjimup Dried Apples</td>\n",
       "      <td>Produce</td>\n",
       "    </tr>\n",
       "  </tbody>\n",
       "</table>\n",
       "</div>"
      ],
      "text/plain": [
       "   OrderId  UnitPrice  Quantity  TotalOrderPrice  \\\n",
       "0    10248       14.0        12            168.0   \n",
       "1    10248        9.8        10             98.0   \n",
       "2    10248       34.8         5            174.0   \n",
       "3    10249       18.6         9            167.4   \n",
       "4    10249       42.4        40           1696.0   \n",
       "\n",
       "                     ProductName    CategoryName  \n",
       "0                 Queso Cabrales  Dairy Products  \n",
       "1  Singaporean Hokkien Fried Mee  Grains/Cereals  \n",
       "2         Mozzarella di Giovanni  Dairy Products  \n",
       "3                           Tofu         Produce  \n",
       "4          Manjimup Dried Apples         Produce  "
      ]
     },
     "execution_count": 3,
     "metadata": {},
     "output_type": "execute_result"
    }
   ],
   "source": [
    "query = \"\"\"SELECT od.OrderId, od.UnitPrice, od.Quantity, \n",
    "                  od.UnitPrice * od.Quantity * (1-od.Discount) AS TotalOrderPrice, \n",
    "                  ProductName, CategoryName\n",
    "           FROM \n",
    "           'Order' o \n",
    "           JOIN OrderDetail od ON o.Id=od.OrderId\n",
    "           JOIN Product p ON p.Id=od.ProductId\n",
    "           JOIN Category c ON c.Id=p.CategoryId\n",
    "           \n",
    "           \"\"\"\n",
    "df = pd.read_sql(query,conn)\n",
    "df.head()"
   ]
  },
  {
   "cell_type": "markdown",
   "metadata": {},
   "source": [
    "### Summary Stats"
   ]
  },
  {
   "cell_type": "code",
   "execution_count": 4,
   "metadata": {
    "scrolled": true
   },
   "outputs": [
    {
     "data": {
      "text/plain": [
       "Beverages         404\n",
       "Dairy Products    366\n",
       "Confections       334\n",
       "Seafood           330\n",
       "Condiments        216\n",
       "Grains/Cereals    196\n",
       "Meat/Poultry      173\n",
       "Produce           136\n",
       "Name: CategoryName, dtype: int64"
      ]
     },
     "execution_count": 4,
     "metadata": {},
     "output_type": "execute_result"
    }
   ],
   "source": [
    "df.CategoryName.value_counts()"
   ]
  },
  {
   "cell_type": "code",
   "execution_count": 5,
   "metadata": {
    "scrolled": false
   },
   "outputs": [],
   "source": [
    "grouped_df = df.groupby(['CategoryName'])\n",
    "grouped_df = pd.DataFrame(grouped_df.TotalOrderPrice.mean())\n",
    "grouped_df = grouped_df.reset_index()"
   ]
  },
  {
   "cell_type": "markdown",
   "metadata": {},
   "source": [
    "Show average Total Order Price by category"
   ]
  },
  {
   "cell_type": "code",
   "execution_count": 6,
   "metadata": {},
   "outputs": [
    {
     "data": {
      "text/html": [
       "<div>\n",
       "<style scoped>\n",
       "    .dataframe tbody tr th:only-of-type {\n",
       "        vertical-align: middle;\n",
       "    }\n",
       "\n",
       "    .dataframe tbody tr th {\n",
       "        vertical-align: top;\n",
       "    }\n",
       "\n",
       "    .dataframe thead th {\n",
       "        text-align: right;\n",
       "    }\n",
       "</style>\n",
       "<table border=\"1\" class=\"dataframe\">\n",
       "  <thead>\n",
       "    <tr style=\"text-align: right;\">\n",
       "      <th></th>\n",
       "      <th>CategoryName</th>\n",
       "      <th>Average Order Price</th>\n",
       "    </tr>\n",
       "  </thead>\n",
       "  <tbody>\n",
       "    <tr>\n",
       "      <th>0</th>\n",
       "      <td>Beverages</td>\n",
       "      <td>663.040050</td>\n",
       "    </tr>\n",
       "    <tr>\n",
       "      <th>1</th>\n",
       "      <td>Condiments</td>\n",
       "      <td>490.958727</td>\n",
       "    </tr>\n",
       "    <tr>\n",
       "      <th>2</th>\n",
       "      <td>Confections</td>\n",
       "      <td>501.069536</td>\n",
       "    </tr>\n",
       "    <tr>\n",
       "      <th>3</th>\n",
       "      <td>Dairy Products</td>\n",
       "      <td>640.730287</td>\n",
       "    </tr>\n",
       "    <tr>\n",
       "      <th>4</th>\n",
       "      <td>Grains/Cereals</td>\n",
       "      <td>488.492793</td>\n",
       "    </tr>\n",
       "    <tr>\n",
       "      <th>5</th>\n",
       "      <td>Meat/Poultry</td>\n",
       "      <td>942.325777</td>\n",
       "    </tr>\n",
       "    <tr>\n",
       "      <th>6</th>\n",
       "      <td>Produce</td>\n",
       "      <td>735.180735</td>\n",
       "    </tr>\n",
       "    <tr>\n",
       "      <th>7</th>\n",
       "      <td>Seafood</td>\n",
       "      <td>397.762841</td>\n",
       "    </tr>\n",
       "  </tbody>\n",
       "</table>\n",
       "</div>"
      ],
      "text/plain": [
       "     CategoryName  Average Order Price\n",
       "0       Beverages           663.040050\n",
       "1      Condiments           490.958727\n",
       "2     Confections           501.069536\n",
       "3  Dairy Products           640.730287\n",
       "4  Grains/Cereals           488.492793\n",
       "5    Meat/Poultry           942.325777\n",
       "6         Produce           735.180735\n",
       "7         Seafood           397.762841"
      ]
     },
     "execution_count": 6,
     "metadata": {},
     "output_type": "execute_result"
    }
   ],
   "source": [
    "grouped_df.columns = ['CategoryName','Average Order Price']\n",
    "grouped_df"
   ]
  },
  {
   "cell_type": "markdown",
   "metadata": {},
   "source": [
    "## Visualize the Data"
   ]
  },
  {
   "cell_type": "code",
   "execution_count": 7,
   "metadata": {
    "scrolled": false
   },
   "outputs": [
    {
     "data": {
      "text/plain": [
       "Text(0, 0.5, 'Total Order Price')"
      ]
     },
     "execution_count": 7,
     "metadata": {},
     "output_type": "execute_result"
    },
    {
     "data": {
      "image/png": "[encoded data removed]",
      "text/plain": [
       "<Figure size 864x576 with 1 Axes>"
      ]
     },
     "metadata": {},
     "output_type": "display_data"
    }
   ],
   "source": [
    "sns.set(rc={'figure.figsize':(12,8)})\n",
    "sns.boxplot(x='CategoryName',y='TotalOrderPrice',data=df)\n",
    "plt.title('Total Order Price for each Product Category')\n",
    "plt.xlabel('Product Category');\n",
    "plt.ylabel('Total Order Price')"
   ]
  },
  {
   "cell_type": "markdown",
   "metadata": {},
   "source": [
    "Remove Outliers - order price > 5000"
   ]
  },
  {
   "cell_type": "code",
   "execution_count": 8,
   "metadata": {},
   "outputs": [],
   "source": [
    "df = df[df.TotalOrderPrice<5000]"
   ]
  },
  {
   "cell_type": "code",
   "execution_count": 9,
   "metadata": {},
   "outputs": [
    {
     "data": {
      "text/plain": [
       "Text(0, 0.5, 'Total Order Price')"
      ]
     },
     "execution_count": 9,
     "metadata": {},
     "output_type": "execute_result"
    },
    {
     "data": {
      "image/png": "[encoded data removed]",
      "text/plain": [
       "<Figure size 864x576 with 1 Axes>"
      ]
     },
     "metadata": {},
     "output_type": "display_data"
    }
   ],
   "source": [
    "sns.set(rc={'figure.figsize':(12,8)})\n",
    "sns.boxplot(x='CategoryName',y='TotalOrderPrice',data=df)\n",
    "plt.title('Total Order Price for each Product Category')\n",
    "plt.xlabel('Product Category');\n",
    "plt.ylabel('Total Order Price')"
   ]
  },
  {
   "cell_type": "markdown",
   "metadata": {},
   "source": [
    "## Hypothesis\n",
    "\n",
    "**Ho:** There is no statistical difference in Total Order Price for Meat/Poultry.\n",
    "\n",
    "**Ha:** The total order price will be statistically different for Meat/Poultry vs other product categories."
   ]
  },
  {
   "cell_type": "markdown",
   "metadata": {},
   "source": [
    "## Histogram for each category\n",
    "Total Order Price by category"
   ]
  },
  {
   "cell_type": "code",
   "execution_count": 10,
   "metadata": {},
   "outputs": [
    {
     "data": {
      "text/plain": [
       "['Dairy Products',\n",
       " 'Grains/Cereals',\n",
       " 'Produce',\n",
       " 'Seafood',\n",
       " 'Condiments',\n",
       " 'Confections',\n",
       " 'Beverages',\n",
       " 'Meat/Poultry']"
      ]
     },
     "execution_count": 10,
     "metadata": {},
     "output_type": "execute_result"
    }
   ],
   "source": [
    "category_names = list(df.CategoryName.unique())\n",
    "category_names"
   ]
  },
  {
   "cell_type": "code",
   "execution_count": 11,
   "metadata": {
    "scrolled": false
   },
   "outputs": [
    {
     "name": "stderr",
     "output_type": "stream",
     "text": [
      "/Users/dennistrimarchi/anaconda3/envs/learn-env/lib/python3.6/site-packages/scipy/stats/stats.py:1713: FutureWarning: Using a non-tuple sequence for multidimensional indexing is deprecated; use `arr[tuple(seq)]` instead of `arr[seq]`. In the future this will be interpreted as an array index, `arr[np.array(seq)]`, which will result either in an error or a different result.\n",
      "  return np.add.reduce(sorted[indexer] * weights, axis=axis) / sumval\n"
     ]
    },
    {
     "data": {
      "text/plain": [
       "<matplotlib.legend.Legend at 0x1c17f39978>"
      ]
     },
     "execution_count": 11,
     "metadata": {},
     "output_type": "execute_result"
    },
    {
     "data": {
      "image/png": "[encoded data removed]",
      "text/plain": [
       "<Figure size 864x576 with 1 Axes>"
      ]
     },
     "metadata": {},
     "output_type": "display_data"
    }
   ],
   "source": [
    "sns.set(rc={'figure.figsize':(12,8)})\n",
    "for category in category_names:\n",
    "    sns.distplot(df.TotalOrderPrice[df.CategoryName==category], label=category)\n",
    "plt.title('Histogram of Total Order Price by Product Category')\n",
    "plt.legend()"
   ]
  },
  {
   "cell_type": "markdown",
   "metadata": {},
   "source": [
    "## ANOVA Test"
   ]
  },
  {
   "cell_type": "code",
   "execution_count": 12,
   "metadata": {},
   "outputs": [
    {
     "name": "stdout",
     "output_type": "stream",
     "text": [
      "                       sum_sq      df          F        PR(>F)  reject_null\n",
      "C(CategoryName)  3.648664e+07     7.0  14.904216  4.220117e-19         True\n",
      "Residual         7.445646e+08  2129.0        NaN           NaN        False\n"
     ]
    }
   ],
   "source": [
    "#ANOVA TEST\n",
    "formula = \"TotalOrderPrice ~ C(CategoryName)\"\n",
    "lm = ols(formula, df).fit()\n",
    "table = sm.stats.anova_lm(lm, typ=2)\n",
    "table['reject_null'] = table['PR(>F)'] < alpha\n",
    "print(table)"
   ]
  },
  {
   "cell_type": "markdown",
   "metadata": {},
   "source": [
    "## Tukey Test\n",
    "Pairwise comparison"
   ]
  },
  {
   "cell_type": "code",
   "execution_count": 13,
   "metadata": {
    "scrolled": false
   },
   "outputs": [
    {
     "name": "stdout",
     "output_type": "stream",
     "text": [
      "Groups are Product Categories, summary stats are Total Order Price\n",
      "\n",
      "Multiple Comparison of Means - Tukey HSD,FWER=0.05\n"
     ]
    },
    {
     "data": {
      "text/html": [
       "<div>\n",
       "<style scoped>\n",
       "    .dataframe tbody tr th:only-of-type {\n",
       "        vertical-align: middle;\n",
       "    }\n",
       "\n",
       "    .dataframe tbody tr th {\n",
       "        vertical-align: top;\n",
       "    }\n",
       "\n",
       "    .dataframe thead th {\n",
       "        text-align: right;\n",
       "    }\n",
       "</style>\n",
       "<table border=\"1\" class=\"dataframe\">\n",
       "  <thead>\n",
       "    <tr style=\"text-align: right;\">\n",
       "      <th></th>\n",
       "      <th>group1</th>\n",
       "      <th>group2</th>\n",
       "      <th>meandiff</th>\n",
       "      <th>lower</th>\n",
       "      <th>upper</th>\n",
       "      <th>reject</th>\n",
       "    </tr>\n",
       "  </thead>\n",
       "  <tbody>\n",
       "    <tr>\n",
       "      <th>0</th>\n",
       "      <td>Beverages</td>\n",
       "      <td>Condiments</td>\n",
       "      <td>91.1932</td>\n",
       "      <td>-60.8422</td>\n",
       "      <td>243.2287</td>\n",
       "      <td>False</td>\n",
       "    </tr>\n",
       "    <tr>\n",
       "      <th>1</th>\n",
       "      <td>Beverages</td>\n",
       "      <td>Confections</td>\n",
       "      <td>86.9889</td>\n",
       "      <td>-46.7220</td>\n",
       "      <td>220.6999</td>\n",
       "      <td>False</td>\n",
       "    </tr>\n",
       "    <tr>\n",
       "      <th>2</th>\n",
       "      <td>Beverages</td>\n",
       "      <td>Dairy Products</td>\n",
       "      <td>226.1449</td>\n",
       "      <td>95.6416</td>\n",
       "      <td>356.6482</td>\n",
       "      <td>True</td>\n",
       "    </tr>\n",
       "    <tr>\n",
       "      <th>3</th>\n",
       "      <td>Beverages</td>\n",
       "      <td>Grains/Cereals</td>\n",
       "      <td>88.7273</td>\n",
       "      <td>-68.2297</td>\n",
       "      <td>245.6843</td>\n",
       "      <td>False</td>\n",
       "    </tr>\n",
       "    <tr>\n",
       "      <th>4</th>\n",
       "      <td>Beverages</td>\n",
       "      <td>Meat/Poultry</td>\n",
       "      <td>435.3996</td>\n",
       "      <td>270.6351</td>\n",
       "      <td>600.1641</td>\n",
       "      <td>True</td>\n",
       "    </tr>\n",
       "    <tr>\n",
       "      <th>5</th>\n",
       "      <td>Beverages</td>\n",
       "      <td>Produce</td>\n",
       "      <td>296.1055</td>\n",
       "      <td>117.0620</td>\n",
       "      <td>475.1489</td>\n",
       "      <td>True</td>\n",
       "    </tr>\n",
       "    <tr>\n",
       "      <th>6</th>\n",
       "      <td>Beverages</td>\n",
       "      <td>Seafood</td>\n",
       "      <td>-2.0026</td>\n",
       "      <td>-136.0418</td>\n",
       "      <td>132.0365</td>\n",
       "      <td>False</td>\n",
       "    </tr>\n",
       "    <tr>\n",
       "      <th>7</th>\n",
       "      <td>Condiments</td>\n",
       "      <td>Confections</td>\n",
       "      <td>-4.2043</td>\n",
       "      <td>-160.9516</td>\n",
       "      <td>152.5431</td>\n",
       "      <td>False</td>\n",
       "    </tr>\n",
       "    <tr>\n",
       "      <th>8</th>\n",
       "      <td>Condiments</td>\n",
       "      <td>Dairy Products</td>\n",
       "      <td>134.9516</td>\n",
       "      <td>-19.0686</td>\n",
       "      <td>288.9719</td>\n",
       "      <td>False</td>\n",
       "    </tr>\n",
       "    <tr>\n",
       "      <th>9</th>\n",
       "      <td>Condiments</td>\n",
       "      <td>Grains/Cereals</td>\n",
       "      <td>-2.4659</td>\n",
       "      <td>-179.4592</td>\n",
       "      <td>174.5273</td>\n",
       "      <td>False</td>\n",
       "    </tr>\n",
       "    <tr>\n",
       "      <th>10</th>\n",
       "      <td>Condiments</td>\n",
       "      <td>Meat/Poultry</td>\n",
       "      <td>344.2063</td>\n",
       "      <td>160.2540</td>\n",
       "      <td>528.1587</td>\n",
       "      <td>True</td>\n",
       "    </tr>\n",
       "    <tr>\n",
       "      <th>11</th>\n",
       "      <td>Condiments</td>\n",
       "      <td>Produce</td>\n",
       "      <td>204.9122</td>\n",
       "      <td>8.0679</td>\n",
       "      <td>401.7565</td>\n",
       "      <td>True</td>\n",
       "    </tr>\n",
       "    <tr>\n",
       "      <th>12</th>\n",
       "      <td>Condiments</td>\n",
       "      <td>Seafood</td>\n",
       "      <td>-93.1959</td>\n",
       "      <td>-250.2233</td>\n",
       "      <td>63.8315</td>\n",
       "      <td>False</td>\n",
       "    </tr>\n",
       "    <tr>\n",
       "      <th>13</th>\n",
       "      <td>Confections</td>\n",
       "      <td>Dairy Products</td>\n",
       "      <td>139.1559</td>\n",
       "      <td>3.1925</td>\n",
       "      <td>275.1194</td>\n",
       "      <td>True</td>\n",
       "    </tr>\n",
       "    <tr>\n",
       "      <th>14</th>\n",
       "      <td>Confections</td>\n",
       "      <td>Grains/Cereals</td>\n",
       "      <td>1.7384</td>\n",
       "      <td>-159.7870</td>\n",
       "      <td>163.2637</td>\n",
       "      <td>False</td>\n",
       "    </tr>\n",
       "    <tr>\n",
       "      <th>15</th>\n",
       "      <td>Confections</td>\n",
       "      <td>Meat/Poultry</td>\n",
       "      <td>348.4106</td>\n",
       "      <td>179.2885</td>\n",
       "      <td>517.5328</td>\n",
       "      <td>True</td>\n",
       "    </tr>\n",
       "    <tr>\n",
       "      <th>16</th>\n",
       "      <td>Confections</td>\n",
       "      <td>Produce</td>\n",
       "      <td>209.1165</td>\n",
       "      <td>26.0551</td>\n",
       "      <td>392.1780</td>\n",
       "      <td>True</td>\n",
       "    </tr>\n",
       "    <tr>\n",
       "      <th>17</th>\n",
       "      <td>Confections</td>\n",
       "      <td>Seafood</td>\n",
       "      <td>-88.9916</td>\n",
       "      <td>-228.3524</td>\n",
       "      <td>50.3692</td>\n",
       "      <td>False</td>\n",
       "    </tr>\n",
       "    <tr>\n",
       "      <th>18</th>\n",
       "      <td>Dairy Products</td>\n",
       "      <td>Grains/Cereals</td>\n",
       "      <td>-137.4176</td>\n",
       "      <td>-296.2979</td>\n",
       "      <td>21.4627</td>\n",
       "      <td>False</td>\n",
       "    </tr>\n",
       "    <tr>\n",
       "      <th>19</th>\n",
       "      <td>Dairy Products</td>\n",
       "      <td>Meat/Poultry</td>\n",
       "      <td>209.2547</td>\n",
       "      <td>42.6570</td>\n",
       "      <td>375.8524</td>\n",
       "      <td>True</td>\n",
       "    </tr>\n",
       "    <tr>\n",
       "      <th>20</th>\n",
       "      <td>Dairy Products</td>\n",
       "      <td>Produce</td>\n",
       "      <td>69.9606</td>\n",
       "      <td>-110.7713</td>\n",
       "      <td>250.6925</td>\n",
       "      <td>False</td>\n",
       "    </tr>\n",
       "    <tr>\n",
       "      <th>21</th>\n",
       "      <td>Dairy Products</td>\n",
       "      <td>Seafood</td>\n",
       "      <td>-228.1475</td>\n",
       "      <td>-364.4338</td>\n",
       "      <td>-91.8613</td>\n",
       "      <td>True</td>\n",
       "    </tr>\n",
       "    <tr>\n",
       "      <th>22</th>\n",
       "      <td>Grains/Cereals</td>\n",
       "      <td>Meat/Poultry</td>\n",
       "      <td>346.6723</td>\n",
       "      <td>158.6319</td>\n",
       "      <td>534.7126</td>\n",
       "      <td>True</td>\n",
       "    </tr>\n",
       "    <tr>\n",
       "      <th>23</th>\n",
       "      <td>Grains/Cereals</td>\n",
       "      <td>Produce</td>\n",
       "      <td>207.3782</td>\n",
       "      <td>6.7083</td>\n",
       "      <td>408.0480</td>\n",
       "      <td>True</td>\n",
       "    </tr>\n",
       "    <tr>\n",
       "      <th>24</th>\n",
       "      <td>Grains/Cereals</td>\n",
       "      <td>Seafood</td>\n",
       "      <td>-90.7300</td>\n",
       "      <td>-252.5271</td>\n",
       "      <td>71.0672</td>\n",
       "      <td>False</td>\n",
       "    </tr>\n",
       "    <tr>\n",
       "      <th>25</th>\n",
       "      <td>Meat/Poultry</td>\n",
       "      <td>Produce</td>\n",
       "      <td>-139.2941</td>\n",
       "      <td>-346.1279</td>\n",
       "      <td>67.5398</td>\n",
       "      <td>False</td>\n",
       "    </tr>\n",
       "    <tr>\n",
       "      <th>26</th>\n",
       "      <td>Meat/Poultry</td>\n",
       "      <td>Seafood</td>\n",
       "      <td>-437.4022</td>\n",
       "      <td>-606.7840</td>\n",
       "      <td>-268.0205</td>\n",
       "      <td>True</td>\n",
       "    </tr>\n",
       "    <tr>\n",
       "      <th>27</th>\n",
       "      <td>Produce</td>\n",
       "      <td>Seafood</td>\n",
       "      <td>-298.1081</td>\n",
       "      <td>-481.4095</td>\n",
       "      <td>-114.8068</td>\n",
       "      <td>True</td>\n",
       "    </tr>\n",
       "  </tbody>\n",
       "</table>\n",
       "</div>"
      ],
      "text/plain": [
       "            group1          group2  meandiff     lower     upper  reject\n",
       "0        Beverages      Condiments   91.1932  -60.8422  243.2287   False\n",
       "1        Beverages     Confections   86.9889  -46.7220  220.6999   False\n",
       "2        Beverages  Dairy Products  226.1449   95.6416  356.6482    True\n",
       "3        Beverages  Grains/Cereals   88.7273  -68.2297  245.6843   False\n",
       "4        Beverages    Meat/Poultry  435.3996  270.6351  600.1641    True\n",
       "5        Beverages         Produce  296.1055  117.0620  475.1489    True\n",
       "6        Beverages         Seafood   -2.0026 -136.0418  132.0365   False\n",
       "7       Condiments     Confections   -4.2043 -160.9516  152.5431   False\n",
       "8       Condiments  Dairy Products  134.9516  -19.0686  288.9719   False\n",
       "9       Condiments  Grains/Cereals   -2.4659 -179.4592  174.5273   False\n",
       "10      Condiments    Meat/Poultry  344.2063  160.2540  528.1587    True\n",
       "11      Condiments         Produce  204.9122    8.0679  401.7565    True\n",
       "12      Condiments         Seafood  -93.1959 -250.2233   63.8315   False\n",
       "13     Confections  Dairy Products  139.1559    3.1925  275.1194    True\n",
       "14     Confections  Grains/Cereals    1.7384 -159.7870  163.2637   False\n",
       "15     Confections    Meat/Poultry  348.4106  179.2885  517.5328    True\n",
       "16     Confections         Produce  209.1165   26.0551  392.1780    True\n",
       "17     Confections         Seafood  -88.9916 -228.3524   50.3692   False\n",
       "18  Dairy Products  Grains/Cereals -137.4176 -296.2979   21.4627   False\n",
       "19  Dairy Products    Meat/Poultry  209.2547   42.6570  375.8524    True\n",
       "20  Dairy Products         Produce   69.9606 -110.7713  250.6925   False\n",
       "21  Dairy Products         Seafood -228.1475 -364.4338  -91.8613    True\n",
       "22  Grains/Cereals    Meat/Poultry  346.6723  158.6319  534.7126    True\n",
       "23  Grains/Cereals         Produce  207.3782    6.7083  408.0480    True\n",
       "24  Grains/Cereals         Seafood  -90.7300 -252.5271   71.0672   False\n",
       "25    Meat/Poultry         Produce -139.2941 -346.1279   67.5398   False\n",
       "26    Meat/Poultry         Seafood -437.4022 -606.7840 -268.0205    True\n",
       "27         Produce         Seafood -298.1081 -481.4095 -114.8068    True"
      ]
     },
     "execution_count": 13,
     "metadata": {},
     "output_type": "execute_result"
    }
   ],
   "source": [
    "#TUKEY TEST\n",
    "mc = MultiComparison(df['TotalOrderPrice'], df['CategoryName'])\n",
    "result = mc.tukeyhsd(alpha=alpha)\n",
    "print(\"Groups are Product Categories, summary stats are Total Order Price\\n\")\n",
    "#Convert result to dataframe for prettiness and to only show the comparisons that include no-discount\n",
    "tukey_df = pd.DataFrame(data=result._results_table.data[1:], columns=result._results_table.data[0])\n",
    "print(\"Multiple Comparison of Means - Tukey HSD,FWER=0.05\")\n",
    "tukey_df"
   ]
  },
  {
   "cell_type": "markdown",
   "metadata": {},
   "source": [
    "Seems to be a difference between short shelf life and long shelf life product categories.\n",
    "\n",
    "Seafood seems to be the one that doesn't make sense as it has lower order price. Will investigate.\n",
    "\n",
    "Meat/Poultry is statistically different from every category except for Produce."
   ]
  },
  {
   "cell_type": "markdown",
   "metadata": {},
   "source": [
    "### Look at Tukey results for Meat/Poultry Only"
   ]
  },
  {
   "cell_type": "code",
   "execution_count": 14,
   "metadata": {},
   "outputs": [
    {
     "data": {
      "text/html": [
       "<div>\n",
       "<style scoped>\n",
       "    .dataframe tbody tr th:only-of-type {\n",
       "        vertical-align: middle;\n",
       "    }\n",
       "\n",
       "    .dataframe tbody tr th {\n",
       "        vertical-align: top;\n",
       "    }\n",
       "\n",
       "    .dataframe thead th {\n",
       "        text-align: right;\n",
       "    }\n",
       "</style>\n",
       "<table border=\"1\" class=\"dataframe\">\n",
       "  <thead>\n",
       "    <tr style=\"text-align: right;\">\n",
       "      <th></th>\n",
       "      <th>group1</th>\n",
       "      <th>group2</th>\n",
       "      <th>meandiff</th>\n",
       "      <th>lower</th>\n",
       "      <th>upper</th>\n",
       "      <th>reject</th>\n",
       "    </tr>\n",
       "  </thead>\n",
       "  <tbody>\n",
       "    <tr>\n",
       "      <th>4</th>\n",
       "      <td>Beverages</td>\n",
       "      <td>Meat/Poultry</td>\n",
       "      <td>435.3996</td>\n",
       "      <td>270.6351</td>\n",
       "      <td>600.1641</td>\n",
       "      <td>True</td>\n",
       "    </tr>\n",
       "    <tr>\n",
       "      <th>10</th>\n",
       "      <td>Condiments</td>\n",
       "      <td>Meat/Poultry</td>\n",
       "      <td>344.2063</td>\n",
       "      <td>160.2540</td>\n",
       "      <td>528.1587</td>\n",
       "      <td>True</td>\n",
       "    </tr>\n",
       "    <tr>\n",
       "      <th>15</th>\n",
       "      <td>Confections</td>\n",
       "      <td>Meat/Poultry</td>\n",
       "      <td>348.4106</td>\n",
       "      <td>179.2885</td>\n",
       "      <td>517.5328</td>\n",
       "      <td>True</td>\n",
       "    </tr>\n",
       "    <tr>\n",
       "      <th>19</th>\n",
       "      <td>Dairy Products</td>\n",
       "      <td>Meat/Poultry</td>\n",
       "      <td>209.2547</td>\n",
       "      <td>42.6570</td>\n",
       "      <td>375.8524</td>\n",
       "      <td>True</td>\n",
       "    </tr>\n",
       "    <tr>\n",
       "      <th>22</th>\n",
       "      <td>Grains/Cereals</td>\n",
       "      <td>Meat/Poultry</td>\n",
       "      <td>346.6723</td>\n",
       "      <td>158.6319</td>\n",
       "      <td>534.7126</td>\n",
       "      <td>True</td>\n",
       "    </tr>\n",
       "    <tr>\n",
       "      <th>25</th>\n",
       "      <td>Meat/Poultry</td>\n",
       "      <td>Produce</td>\n",
       "      <td>-139.2941</td>\n",
       "      <td>-346.1279</td>\n",
       "      <td>67.5398</td>\n",
       "      <td>False</td>\n",
       "    </tr>\n",
       "    <tr>\n",
       "      <th>26</th>\n",
       "      <td>Meat/Poultry</td>\n",
       "      <td>Seafood</td>\n",
       "      <td>-437.4022</td>\n",
       "      <td>-606.7840</td>\n",
       "      <td>-268.0205</td>\n",
       "      <td>True</td>\n",
       "    </tr>\n",
       "  </tbody>\n",
       "</table>\n",
       "</div>"
      ],
      "text/plain": [
       "            group1        group2  meandiff     lower     upper  reject\n",
       "4        Beverages  Meat/Poultry  435.3996  270.6351  600.1641    True\n",
       "10      Condiments  Meat/Poultry  344.2063  160.2540  528.1587    True\n",
       "15     Confections  Meat/Poultry  348.4106  179.2885  517.5328    True\n",
       "19  Dairy Products  Meat/Poultry  209.2547   42.6570  375.8524    True\n",
       "22  Grains/Cereals  Meat/Poultry  346.6723  158.6319  534.7126    True\n",
       "25    Meat/Poultry       Produce -139.2941 -346.1279   67.5398   False\n",
       "26    Meat/Poultry       Seafood -437.4022 -606.7840 -268.0205    True"
      ]
     },
     "execution_count": 14,
     "metadata": {},
     "output_type": "execute_result"
    }
   ],
   "source": [
    "meat_poultry_tukey = tukey_df[(tukey_df.group1=='Meat/Poultry')|(tukey_df.group2=='Meat/Poultry')]\n",
    "meat_poultry_tukey"
   ]
  },
  {
   "cell_type": "markdown",
   "metadata": {},
   "source": [
    "## Effect Size"
   ]
  },
  {
   "cell_type": "code",
   "execution_count": 15,
   "metadata": {},
   "outputs": [],
   "source": [
    "meat_poultry = df.TotalOrderPrice[df.CategoryName=='Meat/Poultry']\n",
    "category_names = ['Beverages', 'Condiments', 'Confections', 'Dairy Products', 'Grains/Cereals', 'Produce','Seafood']"
   ]
  },
  {
   "cell_type": "code",
   "execution_count": 16,
   "metadata": {
    "scrolled": true
   },
   "outputs": [
    {
     "name": "stdout",
     "output_type": "stream",
     "text": [
      "Effect Size with Meat/Poultry\n",
      "Beverages: d= 0.6129681232712014\n",
      "Condiments: d= 0.46535979260903443\n",
      "Confections: d= 0.475807233793337\n",
      "Dairy Products: d= 0.27463577207341566\n",
      "Grains/Cereals: d= 0.44664218343093204\n",
      "Produce: d= 0.16515903352226594\n",
      "Seafood: d= 0.6523691882089625\n"
     ]
    }
   ],
   "source": [
    "effect_sizes = []\n",
    "print('Effect Size with Meat/Poultry')\n",
    "for category in category_names:\n",
    "    d = cohens_d(meat_poultry,df.TotalOrderPrice[df.CategoryName==category])\n",
    "    print(f\"{category}: d= {d}\")\n",
    "    effect_sizes.append(round(d,3))"
   ]
  },
  {
   "cell_type": "markdown",
   "metadata": {},
   "source": [
    "Append to end of Tukey dataframe for prettiness"
   ]
  },
  {
   "cell_type": "code",
   "execution_count": 17,
   "metadata": {},
   "outputs": [
    {
     "name": "stderr",
     "output_type": "stream",
     "text": [
      "/Users/dennistrimarchi/anaconda3/envs/learn-env/lib/python3.6/site-packages/ipykernel_launcher.py:1: SettingWithCopyWarning: \n",
      "A value is trying to be set on a copy of a slice from a DataFrame.\n",
      "Try using .loc[row_indexer,col_indexer] = value instead\n",
      "\n",
      "See the caveats in the documentation: http://pandas.pydata.org/pandas-docs/stable/indexing.html#indexing-view-versus-copy\n",
      "  \"\"\"Entry point for launching an IPython kernel.\n"
     ]
    },
    {
     "data": {
      "text/html": [
       "<div>\n",
       "<style scoped>\n",
       "    .dataframe tbody tr th:only-of-type {\n",
       "        vertical-align: middle;\n",
       "    }\n",
       "\n",
       "    .dataframe tbody tr th {\n",
       "        vertical-align: top;\n",
       "    }\n",
       "\n",
       "    .dataframe thead th {\n",
       "        text-align: right;\n",
       "    }\n",
       "</style>\n",
       "<table border=\"1\" class=\"dataframe\">\n",
       "  <thead>\n",
       "    <tr style=\"text-align: right;\">\n",
       "      <th></th>\n",
       "      <th>group1</th>\n",
       "      <th>group2</th>\n",
       "      <th>meandiff</th>\n",
       "      <th>lower</th>\n",
       "      <th>upper</th>\n",
       "      <th>reject</th>\n",
       "      <th>Effect Size</th>\n",
       "    </tr>\n",
       "  </thead>\n",
       "  <tbody>\n",
       "    <tr>\n",
       "      <th>4</th>\n",
       "      <td>Beverages</td>\n",
       "      <td>Meat/Poultry</td>\n",
       "      <td>435.3996</td>\n",
       "      <td>270.6351</td>\n",
       "      <td>600.1641</td>\n",
       "      <td>True</td>\n",
       "      <td>0.613</td>\n",
       "    </tr>\n",
       "    <tr>\n",
       "      <th>10</th>\n",
       "      <td>Condiments</td>\n",
       "      <td>Meat/Poultry</td>\n",
       "      <td>344.2063</td>\n",
       "      <td>160.2540</td>\n",
       "      <td>528.1587</td>\n",
       "      <td>True</td>\n",
       "      <td>0.465</td>\n",
       "    </tr>\n",
       "    <tr>\n",
       "      <th>15</th>\n",
       "      <td>Confections</td>\n",
       "      <td>Meat/Poultry</td>\n",
       "      <td>348.4106</td>\n",
       "      <td>179.2885</td>\n",
       "      <td>517.5328</td>\n",
       "      <td>True</td>\n",
       "      <td>0.476</td>\n",
       "    </tr>\n",
       "    <tr>\n",
       "      <th>19</th>\n",
       "      <td>Dairy Products</td>\n",
       "      <td>Meat/Poultry</td>\n",
       "      <td>209.2547</td>\n",
       "      <td>42.6570</td>\n",
       "      <td>375.8524</td>\n",
       "      <td>True</td>\n",
       "      <td>0.275</td>\n",
       "    </tr>\n",
       "    <tr>\n",
       "      <th>22</th>\n",
       "      <td>Grains/Cereals</td>\n",
       "      <td>Meat/Poultry</td>\n",
       "      <td>346.6723</td>\n",
       "      <td>158.6319</td>\n",
       "      <td>534.7126</td>\n",
       "      <td>True</td>\n",
       "      <td>0.447</td>\n",
       "    </tr>\n",
       "    <tr>\n",
       "      <th>25</th>\n",
       "      <td>Meat/Poultry</td>\n",
       "      <td>Produce</td>\n",
       "      <td>-139.2941</td>\n",
       "      <td>-346.1279</td>\n",
       "      <td>67.5398</td>\n",
       "      <td>False</td>\n",
       "      <td>0.165</td>\n",
       "    </tr>\n",
       "    <tr>\n",
       "      <th>26</th>\n",
       "      <td>Meat/Poultry</td>\n",
       "      <td>Seafood</td>\n",
       "      <td>-437.4022</td>\n",
       "      <td>-606.7840</td>\n",
       "      <td>-268.0205</td>\n",
       "      <td>True</td>\n",
       "      <td>0.652</td>\n",
       "    </tr>\n",
       "  </tbody>\n",
       "</table>\n",
       "</div>"
      ],
      "text/plain": [
       "            group1        group2  meandiff     lower     upper  reject  \\\n",
       "4        Beverages  Meat/Poultry  435.3996  270.6351  600.1641    True   \n",
       "10      Condiments  Meat/Poultry  344.2063  160.2540  528.1587    True   \n",
       "15     Confections  Meat/Poultry  348.4106  179.2885  517.5328    True   \n",
       "19  Dairy Products  Meat/Poultry  209.2547   42.6570  375.8524    True   \n",
       "22  Grains/Cereals  Meat/Poultry  346.6723  158.6319  534.7126    True   \n",
       "25    Meat/Poultry       Produce -139.2941 -346.1279   67.5398   False   \n",
       "26    Meat/Poultry       Seafood -437.4022 -606.7840 -268.0205    True   \n",
       "\n",
       "    Effect Size  \n",
       "4         0.613  \n",
       "10        0.465  \n",
       "15        0.476  \n",
       "19        0.275  \n",
       "22        0.447  \n",
       "25        0.165  \n",
       "26        0.652  "
      ]
     },
     "execution_count": 17,
     "metadata": {},
     "output_type": "execute_result"
    }
   ],
   "source": [
    "meat_poultry_tukey['Effect Size'] = effect_sizes\n",
    "meat_poultry_tukey"
   ]
  },
  {
   "cell_type": "markdown",
   "metadata": {},
   "source": [
    "## Summary / Conclusion\n",
    "\n",
    "Meat/Poultry has a statistically higher average order price than every other product category with the exception of Produce.\n",
    "\n",
    "Meat/Poultry has the largest effect difference from Beverages and Seafood categories."
   ]
  },
  {
   "cell_type": "markdown",
   "metadata": {},
   "source": [
    "## Recommendations\n",
    "\n",
    "Meat/Poultry bring in higher revenue per order. More bang for your buck."
   ]
  },
  {
   "cell_type": "code",
   "execution_count": null,
   "metadata": {},
   "outputs": [],
   "source": []
  },
  {
   "cell_type": "code",
   "execution_count": null,
   "metadata": {},
   "outputs": [],
   "source": []
  },
  {
   "cell_type": "code",
   "execution_count": null,
   "metadata": {},
   "outputs": [],
   "source": []
  }
 ],
 "metadata": {
  "kernelspec": {
   "display_name": "Python [conda env:learn-env] *",
   "language": "python",
   "name": "conda-env-learn-env-py"
  },
  "language_info": {
   "codemirror_mode": {
    "name": "ipython",
    "version": 3
   },
   "file_extension": ".py",
   "mimetype": "text/x-python",
   "name": "python",
   "nbconvert_exporter": "python",
   "pygments_lexer": "ipython3",
   "version": "3.6.6"
  }
 },
 "nbformat": 4,
 "nbformat_minor": 2
}
