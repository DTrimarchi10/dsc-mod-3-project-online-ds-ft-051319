{
 "cells": [
  {
   "cell_type": "markdown",
   "metadata": {},
   "source": [
    "# Question 2\n",
    "\n",
    "Does discount have a statistically significant effect on average order revenue per product?"
   ]
  },
  {
   "cell_type": "code",
   "execution_count": 1,
   "metadata": {},
   "outputs": [],
   "source": [
    "#import libraries\n",
    "import sqlite3\n",
    "import pandas as pd\n",
    "import numpy as np\n",
    "import matplotlib.pyplot as plt\n",
    "%matplotlib inline\n",
    "import seaborn as sns\n",
    "import statsmodels.api as sm\n",
    "from statsmodels.formula.api import ols\n",
    "\n",
    "#For tukey test\n",
    "from statsmodels.stats.multicomp import pairwise_tukeyhsd\n",
    "from statsmodels.stats.multicomp import MultiComparison\n",
    "\n",
    "#For KS Test\n",
    "from scipy import stats\n",
    "\n",
    "#For Sampling, Welch's T-Test, Cohen's d - flatiron_stats.py. I have updated with my own functions.\n",
    "from flatiron_stats import p_value_welch_ttest, welch_t, cohens_d, get_sampling_means\n",
    "\n",
    "#For SQL Helpter functions\n",
    "from flatiron_sql import view_table, get_table, get_table_names\n",
    "\n",
    "#For Power Analysis\n",
    "from statsmodels.stats.power import TTestIndPower, TTestPower\n",
    "\n",
    "#significance level\n",
    "alpha = 0.05"
   ]
  },
  {
   "cell_type": "code",
   "execution_count": 2,
   "metadata": {},
   "outputs": [],
   "source": [
    "#connect to the Northwind database\n",
    "conn = sqlite3.connect(\"Northwind_small.sqlite\")"
   ]
  },
  {
   "cell_type": "markdown",
   "metadata": {},
   "source": [
    "For some orders, a discount is applied to some line items and not others. For this reason, I did not group by OrderId and instead am using individual order line items as orders."
   ]
  },
  {
   "cell_type": "code",
   "execution_count": 3,
   "metadata": {},
   "outputs": [],
   "source": [
    "#Need a query which will calculate the total revenue for an order and take into account the discount as well.\n",
    "\n",
    "#SOME ORDERS HAVE DISCOUNTS FOR ITEMS WITHIN THE ORDER BUT NOT FOR EVERYTHING IN THE ORDER\n",
    "#Therefore do not group by OrderId\n",
    "\n",
    "#query = \"\"\"SELECT *, sum(UnitPrice * Quantity * (1-Discount)) AS TotalPrice\n",
    "#           FROM OrderDetail\n",
    "#           GROUP BY OrderId\"\"\"\n",
    "\n",
    "query = \"\"\"SELECT *, UnitPrice * Quantity * (1-Discount) AS TotalPrice\n",
    "           FROM OrderDetail\n",
    "           \"\"\"\n",
    "df = pd.read_sql(query,conn)"
   ]
  },
  {
   "cell_type": "markdown",
   "metadata": {},
   "source": [
    "Preview dataframe structure"
   ]
  },
  {
   "cell_type": "code",
   "execution_count": 4,
   "metadata": {
    "scrolled": false
   },
   "outputs": [
    {
     "data": {
      "text/html": [
       "<div>\n",
       "<style scoped>\n",
       "    .dataframe tbody tr th:only-of-type {\n",
       "        vertical-align: middle;\n",
       "    }\n",
       "\n",
       "    .dataframe tbody tr th {\n",
       "        vertical-align: top;\n",
       "    }\n",
       "\n",
       "    .dataframe thead th {\n",
       "        text-align: right;\n",
       "    }\n",
       "</style>\n",
       "<table border=\"1\" class=\"dataframe\">\n",
       "  <thead>\n",
       "    <tr style=\"text-align: right;\">\n",
       "      <th></th>\n",
       "      <th>Id</th>\n",
       "      <th>OrderId</th>\n",
       "      <th>ProductId</th>\n",
       "      <th>UnitPrice</th>\n",
       "      <th>Quantity</th>\n",
       "      <th>Discount</th>\n",
       "      <th>TotalPrice</th>\n",
       "    </tr>\n",
       "  </thead>\n",
       "  <tbody>\n",
       "    <tr>\n",
       "      <th>0</th>\n",
       "      <td>10248/11</td>\n",
       "      <td>10248</td>\n",
       "      <td>11</td>\n",
       "      <td>14.0</td>\n",
       "      <td>12</td>\n",
       "      <td>0.0</td>\n",
       "      <td>168.0</td>\n",
       "    </tr>\n",
       "    <tr>\n",
       "      <th>1</th>\n",
       "      <td>10248/42</td>\n",
       "      <td>10248</td>\n",
       "      <td>42</td>\n",
       "      <td>9.8</td>\n",
       "      <td>10</td>\n",
       "      <td>0.0</td>\n",
       "      <td>98.0</td>\n",
       "    </tr>\n",
       "    <tr>\n",
       "      <th>2</th>\n",
       "      <td>10248/72</td>\n",
       "      <td>10248</td>\n",
       "      <td>72</td>\n",
       "      <td>34.8</td>\n",
       "      <td>5</td>\n",
       "      <td>0.0</td>\n",
       "      <td>174.0</td>\n",
       "    </tr>\n",
       "    <tr>\n",
       "      <th>3</th>\n",
       "      <td>10249/14</td>\n",
       "      <td>10249</td>\n",
       "      <td>14</td>\n",
       "      <td>18.6</td>\n",
       "      <td>9</td>\n",
       "      <td>0.0</td>\n",
       "      <td>167.4</td>\n",
       "    </tr>\n",
       "    <tr>\n",
       "      <th>4</th>\n",
       "      <td>10249/51</td>\n",
       "      <td>10249</td>\n",
       "      <td>51</td>\n",
       "      <td>42.4</td>\n",
       "      <td>40</td>\n",
       "      <td>0.0</td>\n",
       "      <td>1696.0</td>\n",
       "    </tr>\n",
       "  </tbody>\n",
       "</table>\n",
       "</div>"
      ],
      "text/plain": [
       "         Id  OrderId  ProductId  UnitPrice  Quantity  Discount  TotalPrice\n",
       "0  10248/11    10248         11       14.0        12       0.0       168.0\n",
       "1  10248/42    10248         42        9.8        10       0.0        98.0\n",
       "2  10248/72    10248         72       34.8         5       0.0       174.0\n",
       "3  10249/14    10249         14       18.6         9       0.0       167.4\n",
       "4  10249/51    10249         51       42.4        40       0.0      1696.0"
      ]
     },
     "execution_count": 4,
     "metadata": {},
     "output_type": "execute_result"
    }
   ],
   "source": [
    "df.head()"
   ]
  },
  {
   "cell_type": "markdown",
   "metadata": {},
   "source": [
    "### Summary Stats for Order Revenue by Discount Level\n",
    "Run an initial query to look at a summary of the data of interest. I want to see summary statistics for quantity per order grouped by discount amount."
   ]
  },
  {
   "cell_type": "code",
   "execution_count": 5,
   "metadata": {
    "scrolled": false
   },
   "outputs": [
    {
     "data": {
      "text/html": [
       "<div>\n",
       "<style scoped>\n",
       "    .dataframe tbody tr th:only-of-type {\n",
       "        vertical-align: middle;\n",
       "    }\n",
       "\n",
       "    .dataframe tbody tr th {\n",
       "        vertical-align: top;\n",
       "    }\n",
       "\n",
       "    .dataframe thead th {\n",
       "        text-align: right;\n",
       "    }\n",
       "</style>\n",
       "<table border=\"1\" class=\"dataframe\">\n",
       "  <thead>\n",
       "    <tr style=\"text-align: right;\">\n",
       "      <th></th>\n",
       "      <th>Discount</th>\n",
       "      <th>AvgPrice</th>\n",
       "      <th>MinPrice</th>\n",
       "      <th>MaxPrice</th>\n",
       "      <th>NumOrders</th>\n",
       "    </tr>\n",
       "  </thead>\n",
       "  <tbody>\n",
       "    <tr>\n",
       "      <th>0</th>\n",
       "      <td>0.00</td>\n",
       "      <td>570.01</td>\n",
       "      <td>4.80</td>\n",
       "      <td>15810.00</td>\n",
       "      <td>1317</td>\n",
       "    </tr>\n",
       "    <tr>\n",
       "      <th>1</th>\n",
       "      <td>0.01</td>\n",
       "      <td>29.70</td>\n",
       "      <td>29.70</td>\n",
       "      <td>29.70</td>\n",
       "      <td>1</td>\n",
       "    </tr>\n",
       "    <tr>\n",
       "      <th>2</th>\n",
       "      <td>0.02</td>\n",
       "      <td>29.89</td>\n",
       "      <td>24.50</td>\n",
       "      <td>35.28</td>\n",
       "      <td>2</td>\n",
       "    </tr>\n",
       "    <tr>\n",
       "      <th>3</th>\n",
       "      <td>0.03</td>\n",
       "      <td>40.30</td>\n",
       "      <td>22.55</td>\n",
       "      <td>64.50</td>\n",
       "      <td>3</td>\n",
       "    </tr>\n",
       "    <tr>\n",
       "      <th>4</th>\n",
       "      <td>0.04</td>\n",
       "      <td>77.76</td>\n",
       "      <td>77.76</td>\n",
       "      <td>77.76</td>\n",
       "      <td>1</td>\n",
       "    </tr>\n",
       "    <tr>\n",
       "      <th>5</th>\n",
       "      <td>0.05</td>\n",
       "      <td>797.93</td>\n",
       "      <td>28.50</td>\n",
       "      <td>15019.50</td>\n",
       "      <td>185</td>\n",
       "    </tr>\n",
       "    <tr>\n",
       "      <th>6</th>\n",
       "      <td>0.06</td>\n",
       "      <td>63.92</td>\n",
       "      <td>63.92</td>\n",
       "      <td>63.92</td>\n",
       "      <td>1</td>\n",
       "    </tr>\n",
       "    <tr>\n",
       "      <th>7</th>\n",
       "      <td>0.10</td>\n",
       "      <td>528.90</td>\n",
       "      <td>8.64</td>\n",
       "      <td>3557.25</td>\n",
       "      <td>173</td>\n",
       "    </tr>\n",
       "    <tr>\n",
       "      <th>8</th>\n",
       "      <td>0.15</td>\n",
       "      <td>557.36</td>\n",
       "      <td>8.50</td>\n",
       "      <td>3352.40</td>\n",
       "      <td>157</td>\n",
       "    </tr>\n",
       "    <tr>\n",
       "      <th>9</th>\n",
       "      <td>0.20</td>\n",
       "      <td>553.92</td>\n",
       "      <td>14.40</td>\n",
       "      <td>8432.00</td>\n",
       "      <td>161</td>\n",
       "    </tr>\n",
       "    <tr>\n",
       "      <th>10</th>\n",
       "      <td>0.25</td>\n",
       "      <td>642.46</td>\n",
       "      <td>14.40</td>\n",
       "      <td>6324.00</td>\n",
       "      <td>154</td>\n",
       "    </tr>\n",
       "  </tbody>\n",
       "</table>\n",
       "</div>"
      ],
      "text/plain": [
       "    Discount  AvgPrice  MinPrice  MaxPrice  NumOrders\n",
       "0       0.00    570.01      4.80  15810.00       1317\n",
       "1       0.01     29.70     29.70     29.70          1\n",
       "2       0.02     29.89     24.50     35.28          2\n",
       "3       0.03     40.30     22.55     64.50          3\n",
       "4       0.04     77.76     77.76     77.76          1\n",
       "5       0.05    797.93     28.50  15019.50        185\n",
       "6       0.06     63.92     63.92     63.92          1\n",
       "7       0.10    528.90      8.64   3557.25        173\n",
       "8       0.15    557.36      8.50   3352.40        157\n",
       "9       0.20    553.92     14.40   8432.00        161\n",
       "10      0.25    642.46     14.40   6324.00        154"
      ]
     },
     "execution_count": 5,
     "metadata": {},
     "output_type": "execute_result"
    }
   ],
   "source": [
    "orderPrice = 'UnitPrice * Quantity * (1-Discount)'\n",
    "query = f\"\"\"SELECT Discount, \n",
    "                   Round(avg({orderPrice}),2) AS AvgPrice, \n",
    "                   Round(min({orderPrice}),2) AS MinPrice,\n",
    "                   Round(max({orderPrice}),2) AS MaxPrice,\n",
    "                   count(*) AS NumOrders\n",
    "            FROM OrderDetail\n",
    "            GROUP BY Discount\n",
    "            \"\"\"\n",
    "summary_df = pd.read_sql(query,conn)\n",
    "summary_df"
   ]
  },
  {
   "cell_type": "markdown",
   "metadata": {},
   "source": [
    "## Hypothesis\n",
    "\n",
    "**Ho:** There is no difference in the mean total revenue per order between customers who received a discount and those who did not receive a discount.\n",
    "\n",
    "**Ha:** The mean total revenue per order for those who received a discount will be significantly different than the mean total revenue per order by customers who did not receive a discount. i.e. mean revenue per order for discounted != 570.01. - Two tailed"
   ]
  },
  {
   "cell_type": "markdown",
   "metadata": {},
   "source": [
    "**Initial thoughts:** Again, I will need to disregard the 0.01, 0.02, 0.03, 0.04, 0.06 discount levels as there is not enough data for them to be used. \n",
    "\n",
    "Some discount levels have higher average revenue per order and some have lower. "
   ]
  },
  {
   "cell_type": "code",
   "execution_count": 6,
   "metadata": {},
   "outputs": [],
   "source": [
    "#Dropping 0.01, 0.02, 0.03, 0.04, 0.06 discount levels\n",
    "df = df.drop(df[(df.Discount==0.01)|\n",
    "                (df.Discount==0.02)|\n",
    "                (df.Discount==0.03)|\n",
    "                (df.Discount==0.04)|\n",
    "                (df.Discount==0.06)].index)"
   ]
  },
  {
   "cell_type": "markdown",
   "metadata": {},
   "source": [
    "## Visualize the Data"
   ]
  },
  {
   "cell_type": "code",
   "execution_count": 7,
   "metadata": {
    "scrolled": false
   },
   "outputs": [
    {
     "data": {
      "text/plain": [
       "Text(0, 0.5, 'TotalPrice for Order')"
      ]
     },
     "execution_count": 7,
     "metadata": {},
     "output_type": "execute_result"
    },
    {
     "data": {
      "image/png": "[encoded data removed]",
      "text/plain": [
       "<Figure size 864x576 with 1 Axes>"
      ]
     },
     "metadata": {},
     "output_type": "display_data"
    }
   ],
   "source": [
    "sns.set(rc={'figure.figsize':(12,8)})\n",
    "sns.boxplot(x='Discount',y='TotalPrice',data=df)\n",
    "plt.title('BoxPlots showing TotalPrice vs Discount applied')\n",
    "plt.xlabel('Discount (%)');\n",
    "plt.ylabel('TotalPrice for Order')"
   ]
  },
  {
   "cell_type": "code",
   "execution_count": 8,
   "metadata": {
    "scrolled": false
   },
   "outputs": [
    {
     "data": {
      "text/plain": [
       "Text(0, 0.5, 'Total Price for Order')"
      ]
     },
     "execution_count": 8,
     "metadata": {},
     "output_type": "execute_result"
    },
    {
     "data": {
      "image/png": "[encoded data removed]",
      "text/plain": [
       "<Figure size 864x576 with 1 Axes>"
      ]
     },
     "metadata": {},
     "output_type": "display_data"
    }
   ],
   "source": [
    "#Drop orders greater than $4000 OUTLIERS\n",
    "df_dropped = df[df.TotalPrice<4000]\n",
    "\n",
    "sns.set(rc={'figure.figsize':(12,8)})\n",
    "sns.boxplot(x='Discount',y='TotalPrice',data=df_dropped)\n",
    "plt.title('Total Price vs Discount applied')\n",
    "plt.xlabel('Discount (%)');\n",
    "plt.ylabel('Total Price for Order')"
   ]
  },
  {
   "cell_type": "markdown",
   "metadata": {},
   "source": [
    "It looks as though there is some slight variation between the discount levels. Will perform ANOVA and Tukey tests."
   ]
  },
  {
   "cell_type": "markdown",
   "metadata": {},
   "source": [
    "## ANOVA Test"
   ]
  },
  {
   "cell_type": "code",
   "execution_count": 9,
   "metadata": {
    "scrolled": true
   },
   "outputs": [
    {
     "name": "stdout",
     "output_type": "stream",
     "text": [
      "                   sum_sq      df         F    PR(>F)  reject_null\n",
      "C(Discount)  9.970778e+06     5.0  2.122947  0.060007        False\n",
      "Residual     2.011113e+09  2141.0       NaN       NaN        False\n"
     ]
    }
   ],
   "source": [
    "#ANOVA TEST\n",
    "formula = \"TotalPrice ~ C(Discount)\"\n",
    "lm = ols(formula, df).fit()\n",
    "table = sm.stats.anova_lm(lm, typ=2)\n",
    "table['reject_null'] = table['PR(>F)'] < alpha\n",
    "print(table)"
   ]
  },
  {
   "cell_type": "markdown",
   "metadata": {},
   "source": [
    "Discount does not have a statistically significant effect on Order revenue. **Fail to reject Null Hypothesis Ho.** \n",
    "However, I will look into each discount level individually to see if there is a statistically significant correlation."
   ]
  },
  {
   "cell_type": "markdown",
   "metadata": {},
   "source": [
    "## Tukey Test"
   ]
  },
  {
   "cell_type": "markdown",
   "metadata": {},
   "source": [
    "Check individual discount levels"
   ]
  },
  {
   "cell_type": "code",
   "execution_count": 10,
   "metadata": {
    "scrolled": true
   },
   "outputs": [
    {
     "name": "stdout",
     "output_type": "stream",
     "text": [
      "Groups are Discount amounts, summary stats are Order Price\n",
      "\n",
      "\n",
      "Multiple Comparison of Means - Tukey HSD,FWER=0.05\n"
     ]
    },
    {
     "data": {
      "text/html": [
       "<div>\n",
       "<style scoped>\n",
       "    .dataframe tbody tr th:only-of-type {\n",
       "        vertical-align: middle;\n",
       "    }\n",
       "\n",
       "    .dataframe tbody tr th {\n",
       "        vertical-align: top;\n",
       "    }\n",
       "\n",
       "    .dataframe thead th {\n",
       "        text-align: right;\n",
       "    }\n",
       "</style>\n",
       "<table border=\"1\" class=\"dataframe\">\n",
       "  <thead>\n",
       "    <tr style=\"text-align: right;\">\n",
       "      <th></th>\n",
       "      <th>group1</th>\n",
       "      <th>group2</th>\n",
       "      <th>meandiff</th>\n",
       "      <th>lower</th>\n",
       "      <th>upper</th>\n",
       "      <th>reject</th>\n",
       "    </tr>\n",
       "  </thead>\n",
       "  <tbody>\n",
       "    <tr>\n",
       "      <th>0</th>\n",
       "      <td>0.0</td>\n",
       "      <td>0.05</td>\n",
       "      <td>227.9252</td>\n",
       "      <td>10.8774</td>\n",
       "      <td>444.9730</td>\n",
       "      <td>True</td>\n",
       "    </tr>\n",
       "    <tr>\n",
       "      <th>1</th>\n",
       "      <td>0.0</td>\n",
       "      <td>0.10</td>\n",
       "      <td>-41.1098</td>\n",
       "      <td>-264.6607</td>\n",
       "      <td>182.4411</td>\n",
       "      <td>False</td>\n",
       "    </tr>\n",
       "    <tr>\n",
       "      <th>2</th>\n",
       "      <td>0.0</td>\n",
       "      <td>0.15</td>\n",
       "      <td>-12.6424</td>\n",
       "      <td>-246.0447</td>\n",
       "      <td>220.7600</td>\n",
       "      <td>False</td>\n",
       "    </tr>\n",
       "    <tr>\n",
       "      <th>3</th>\n",
       "      <td>0.0</td>\n",
       "      <td>0.20</td>\n",
       "      <td>-16.0866</td>\n",
       "      <td>-246.8839</td>\n",
       "      <td>214.7106</td>\n",
       "      <td>False</td>\n",
       "    </tr>\n",
       "    <tr>\n",
       "      <th>4</th>\n",
       "      <td>0.0</td>\n",
       "      <td>0.25</td>\n",
       "      <td>72.4517</td>\n",
       "      <td>-162.9732</td>\n",
       "      <td>307.8765</td>\n",
       "      <td>False</td>\n",
       "    </tr>\n",
       "  </tbody>\n",
       "</table>\n",
       "</div>"
      ],
      "text/plain": [
       "   group1  group2  meandiff     lower     upper  reject\n",
       "0     0.0    0.05  227.9252   10.8774  444.9730    True\n",
       "1     0.0    0.10  -41.1098 -264.6607  182.4411   False\n",
       "2     0.0    0.15  -12.6424 -246.0447  220.7600   False\n",
       "3     0.0    0.20  -16.0866 -246.8839  214.7106   False\n",
       "4     0.0    0.25   72.4517 -162.9732  307.8765   False"
      ]
     },
     "execution_count": 10,
     "metadata": {},
     "output_type": "execute_result"
    }
   ],
   "source": [
    "#TUKEY TEST\n",
    "mc = MultiComparison(df['TotalPrice'], df['Discount'])\n",
    "result = mc.tukeyhsd()\n",
    "print(\"Groups are Discount amounts, summary stats are Order Price\\n\")\n",
    "#Convert result to dataframe for prettiness and to only show the comparisons that include no-discount\n",
    "result_df = pd.DataFrame(data=result._results_table.data[1:], columns=result._results_table.data[0])\n",
    "print(\"\\nMultiple Comparison of Means - Tukey HSD,FWER=0.05\")\n",
    "#result_df.rename(columns={'group1': 'NoDiscount', 'group2': 'Discount'}, inplace=True)\n",
    "result_df[result_df.group1==0.00]"
   ]
  },
  {
   "cell_type": "markdown",
   "metadata": {},
   "source": [
    "Whoa, this is cool. The Tukey test tells me that the 0.05 discount level has a statistically significant impact on order revenue. \n",
    "\n",
    "**Reject Null Hypothesis Ho for 5% discount level.**"
   ]
  },
  {
   "cell_type": "markdown",
   "metadata": {},
   "source": [
    "## NORMALITY\n",
    "Full Price vs Discounted 5%"
   ]
  },
  {
   "cell_type": "code",
   "execution_count": 11,
   "metadata": {},
   "outputs": [],
   "source": [
    "full_price = df[df['Discount']==0]\n",
    "#discounted = 5% level\n",
    "discounted = df[df['Discount']==0.05]"
   ]
  },
  {
   "cell_type": "code",
   "execution_count": 12,
   "metadata": {},
   "outputs": [
    {
     "name": "stderr",
     "output_type": "stream",
     "text": [
      "/Users/dennistrimarchi/anaconda3/envs/learn-env/lib/python3.6/site-packages/scipy/stats/stats.py:1713: FutureWarning: Using a non-tuple sequence for multidimensional indexing is deprecated; use `arr[tuple(seq)]` instead of `arr[seq]`. In the future this will be interpreted as an array index, `arr[np.array(seq)]`, which will result either in an error or a different result.\n",
      "  return np.add.reduce(sorted[indexer] * weights, axis=axis) / sumval\n"
     ]
    },
    {
     "data": {
      "text/plain": [
       "<matplotlib.legend.Legend at 0x1c1f9badd8>"
      ]
     },
     "execution_count": 12,
     "metadata": {},
     "output_type": "execute_result"
    },
    {
     "data": {
      "image/png": "[encoded data removed]",
      "text/plain": [
       "<Figure size 864x576 with 1 Axes>"
      ]
     },
     "metadata": {},
     "output_type": "display_data"
    }
   ],
   "source": [
    "sns.set(rc={'figure.figsize':(12,8)})\n",
    "sns.distplot(full_price['TotalPrice'], label='No Discount')\n",
    "sns.distplot(discounted['TotalPrice'], label='0.05')\n",
    "plt.title('Histogram of TotalPrice for Order')\n",
    "plt.legend()"
   ]
  },
  {
   "cell_type": "markdown",
   "metadata": {},
   "source": [
    "### KS Test\n",
    "Check if each sample is normal"
   ]
  },
  {
   "cell_type": "code",
   "execution_count": 13,
   "metadata": {},
   "outputs": [
    {
     "name": "stdout",
     "output_type": "stream",
     "text": [
      "KS TEST FULL PRICE\n",
      "test statistic: 0.2794706160078528\n",
      "pvalue: 0.0\n",
      "Is Normal: False\n"
     ]
    }
   ],
   "source": [
    "mu = full_price['TotalPrice'].mean()\n",
    "std = full_price['TotalPrice'].std()\n",
    "result = stats.kstest(rvs=full_price['TotalPrice'],cdf='norm',args=(mu, std))\n",
    "print(\"KS TEST FULL PRICE\\ntest statistic: {}\\npvalue: {}\\nIs Normal: {}\".format(result.statistic,result.pvalue,result.pvalue>0.05))"
   ]
  },
  {
   "cell_type": "code",
   "execution_count": 14,
   "metadata": {},
   "outputs": [
    {
     "name": "stdout",
     "output_type": "stream",
     "text": [
      "KS TEST DISCOUNTED\n",
      "test statistic: 0.29628424123236663\n",
      "pvalue: 6.8833827526759706e-15\n",
      "Is Normal: False\n"
     ]
    }
   ],
   "source": [
    "mu = discounted['TotalPrice'].mean()\n",
    "std = discounted['TotalPrice'].std()\n",
    "result = stats.kstest(rvs=discounted['TotalPrice'],cdf='norm',args=(mu, std))\n",
    "print(\"KS TEST DISCOUNTED\\ntest statistic: {}\\npvalue: {}\\nIs Normal: {}\".format(result.statistic,result.pvalue,result.pvalue>0.05))"
   ]
  },
  {
   "cell_type": "markdown",
   "metadata": {},
   "source": [
    "The samples are not normal according to Kolmogorov-Smirnov Test. Will do some sampling in order to create normality according to the Central Limit Theorem."
   ]
  },
  {
   "cell_type": "markdown",
   "metadata": {},
   "source": [
    "### Shapiro Test\n",
    "Checks if each sample is normal"
   ]
  },
  {
   "cell_type": "code",
   "execution_count": 15,
   "metadata": {
    "scrolled": true
   },
   "outputs": [
    {
     "name": "stdout",
     "output_type": "stream",
     "text": [
      "SHAPIRO TEST FULL PRICE\n",
      "test statistic: 0.45755600929260254\n",
      "pvalue: 0.0\n",
      "Is Normal: False\n"
     ]
    }
   ],
   "source": [
    "result = stats.shapiro(full_price['TotalPrice'])\n",
    "print(\"SHAPIRO TEST FULL PRICE\\ntest statistic: {}\\npvalue: {}\\nIs Normal: {}\".format(result[0],result[1],result[1]>0.05))"
   ]
  },
  {
   "cell_type": "code",
   "execution_count": 16,
   "metadata": {},
   "outputs": [
    {
     "name": "stdout",
     "output_type": "stream",
     "text": [
      "SHAPIRO TEST DISCOUNTED\n",
      "test statistic: 0.4443626403808594\n",
      "pvalue: 1.0444835507210095e-23\n",
      "Is Normal: False\n"
     ]
    }
   ],
   "source": [
    "result = stats.shapiro(discounted['TotalPrice'])\n",
    "print(\"SHAPIRO TEST DISCOUNTED\\ntest statistic: {}\\npvalue: {}\\nIs Normal: {}\".format(result[0],result[1],result[1]>0.05))"
   ]
  },
  {
   "cell_type": "markdown",
   "metadata": {},
   "source": [
    "The samples are not normal according to Kolmogorov-Smirnov Test. Will do some sampling in order to create normality according to the Central Limit Theorem."
   ]
  },
  {
   "cell_type": "markdown",
   "metadata": {},
   "source": [
    "## Sampling Distributions"
   ]
  },
  {
   "cell_type": "code",
   "execution_count": 17,
   "metadata": {},
   "outputs": [
    {
     "name": "stdout",
     "output_type": "stream",
     "text": [
      "Number of Samples: 500\n",
      "Sample Size: 50\n",
      "\n",
      "Sampling mean of each group.\n",
      "Full price: 569.1105659999998\n",
      "Discounted: 785.07424832\n",
      "Mean Difference: 215.9636823200002\n",
      "\n",
      "StdDev of Sample means for each group.\n",
      "Full price: 140.46558037363786\n",
      "Discounted: 199.56311070450738\n"
     ]
    },
    {
     "name": "stderr",
     "output_type": "stream",
     "text": [
      "/Users/dennistrimarchi/anaconda3/envs/learn-env/lib/python3.6/site-packages/scipy/stats/stats.py:1713: FutureWarning: Using a non-tuple sequence for multidimensional indexing is deprecated; use `arr[tuple(seq)]` instead of `arr[seq]`. In the future this will be interpreted as an array index, `arr[np.array(seq)]`, which will result either in an error or a different result.\n",
      "  return np.add.reduce(sorted[indexer] * weights, axis=axis) / sumval\n"
     ]
    },
    {
     "data": {
      "image/png": "[encoded data removed]",
      "text/plain": [
       "<Figure size 864x576 with 1 Axes>"
      ]
     },
     "metadata": {},
     "output_type": "display_data"
    }
   ],
   "source": [
    "num_samples = 500\n",
    "sample_size = 50\n",
    "\n",
    "#Get sample means for each group\n",
    "full_price_sample_means = get_sampling_means(full_price['TotalPrice'],num_samples,sample_size)\n",
    "discounted_sample_means = get_sampling_means(discounted['TotalPrice'],num_samples,sample_size)\n",
    "\n",
    "sns.set(rc={'figure.figsize':(12,8)});\n",
    "sns.distplot(full_price_sample_means, label='No Discount');\n",
    "sns.distplot(discounted_sample_means, label='Discount 0.05');\n",
    "plt.title('Sampling Distribution of Mean Total Price per Order');\n",
    "plt.legend();\n",
    "\n",
    "print(\"Number of Samples: {}\\nSample Size: {}\\n\".format(num_samples,sample_size))\n",
    "print(\"Sampling mean of each group.\\nFull price: {}\\nDiscounted: {}\"\n",
    "      .format(np.mean(full_price_sample_means),np.mean(discounted_sample_means)))\n",
    "print(\"Mean Difference: {}\\n\"\n",
    "      .format(abs(np.mean(full_price_sample_means)-np.mean(discounted_sample_means))))\n",
    "print(\"StdDev of Sample means for each group.\\nFull price: {}\\nDiscounted: {}\"\n",
    "      .format(np.std(full_price_sample_means),np.std(discounted_sample_means)))"
   ]
  },
  {
   "cell_type": "markdown",
   "metadata": {},
   "source": [
    "## Welch's T-Test"
   ]
  },
  {
   "cell_type": "markdown",
   "metadata": {},
   "source": [
    "Raw Data:"
   ]
  },
  {
   "cell_type": "code",
   "execution_count": 18,
   "metadata": {},
   "outputs": [
    {
     "name": "stdout",
     "output_type": "stream",
     "text": [
      "Welch's T-Test:\n",
      "t: 2.0913780231378394  p-val: 0.037709870639518694  reject null: True\n"
     ]
    }
   ],
   "source": [
    "#Welch's T-Test on original dataset before sampling\n",
    "p_orig = p_value_welch_ttest(full_price['TotalPrice'],discounted['TotalPrice'], two_sided=True)\n",
    "t_orig = welch_t(full_price['TotalPrice'],discounted['TotalPrice'])\n",
    "print(\"Welch's T-Test:\\nt: {}  p-val: {}  reject null: {}\".format(t_orig,p_orig,p_orig<alpha))"
   ]
  },
  {
   "cell_type": "markdown",
   "metadata": {},
   "source": [
    "Sampled Data:"
   ]
  },
  {
   "cell_type": "code",
   "execution_count": 19,
   "metadata": {},
   "outputs": [
    {
     "name": "stdout",
     "output_type": "stream",
     "text": [
      "Welch's T-Test:\n",
      "t: 19.76824812055224  p-val: 0.0  reject null: True\n"
     ]
    }
   ],
   "source": [
    "p = p_value_welch_ttest(full_price_sample_means, discounted_sample_means, two_sided=True)\n",
    "t = welch_t(full_price_sample_means, discounted_sample_means)\n",
    "\n",
    "print(\"Welch's T-Test:\\nt: {}  p-val: {}  reject null: {}\".format(t,p,p<alpha))"
   ]
  },
  {
   "cell_type": "markdown",
   "metadata": {},
   "source": [
    "Like the Tukey test, the **Null Hypothesis is rejected** for the 5% discount level... barely."
   ]
  },
  {
   "cell_type": "markdown",
   "metadata": {},
   "source": [
    "## Effect Size"
   ]
  },
  {
   "cell_type": "markdown",
   "metadata": {},
   "source": [
    "Raw Data:"
   ]
  },
  {
   "cell_type": "code",
   "execution_count": 20,
   "metadata": {},
   "outputs": [
    {
     "name": "stdout",
     "output_type": "stream",
     "text": [
      "Effect Size d: 0.22091426590046287\n"
     ]
    }
   ],
   "source": [
    "#Effect size of original dataset before sampling\n",
    "d_orig = cohens_d(full_price['TotalPrice'],discounted['TotalPrice'])\n",
    "print(\"Effect Size d: {}\".format(d_orig))"
   ]
  },
  {
   "cell_type": "markdown",
   "metadata": {},
   "source": [
    "Sampled Data:"
   ]
  },
  {
   "cell_type": "code",
   "execution_count": 21,
   "metadata": {
    "scrolled": true
   },
   "outputs": [
    {
     "name": "stdout",
     "output_type": "stream",
     "text": [
      "Effect Size d: 1.250253788245758\n"
     ]
    }
   ],
   "source": [
    "d = cohens_d(full_price_sample_means, discounted_sample_means)\n",
    "print(\"Effect Size d: {}\".format(d))"
   ]
  },
  {
   "cell_type": "markdown",
   "metadata": {},
   "source": [
    "## Summary / Conclusion\n",
    "\n",
    "Discount has a statistically significant effect on order revenue for the 5% discount level. For all other discount levels, the Null Hypothesis failed to be rejected.\n",
    "\n",
    "The following table shows the 5% discount level, mean difference and effect size with respect to the full price group.\n",
    "\n",
    "|Discount | Mean Difference | Effect Size | \n",
    "|---------|-----------------|-------------|\n",
    "| 0.05    |    227.92       |     0.221   |\n",
    "\n",
    "This was a two-tailed test, but we can see that the mean revenue is greater for the 5% discount level. The effect of the discount is small according to Cohen's d effect size measurement."
   ]
  },
  {
   "cell_type": "markdown",
   "metadata": {},
   "source": [
    "## Recommendations\n",
    "Based on these results I would recommend that the company consider that a 5% discount results in greater revenue per order.\n",
    "\n",
    "This may be due to a combination of the customer ordering more product because of the presence of the discount, and the discount being small enough to limit negative impact to revenue.\n",
    "\n",
    "Additionally, the tests also show that applying other discount levels do not negatively impact average order revenue. \n"
   ]
  },
  {
   "cell_type": "code",
   "execution_count": null,
   "metadata": {},
   "outputs": [],
   "source": []
  },
  {
   "cell_type": "code",
   "execution_count": null,
   "metadata": {},
   "outputs": [],
   "source": []
  },
  {
   "cell_type": "code",
   "execution_count": null,
   "metadata": {},
   "outputs": [],
   "source": []
  },
  {
   "cell_type": "code",
   "execution_count": null,
   "metadata": {},
   "outputs": [],
   "source": []
  },
  {
   "cell_type": "code",
   "execution_count": null,
   "metadata": {},
   "outputs": [],
   "source": []
  },
  {
   "cell_type": "code",
   "execution_count": null,
   "metadata": {},
   "outputs": [],
   "source": []
  },
  {
   "cell_type": "code",
   "execution_count": null,
   "metadata": {},
   "outputs": [],
   "source": []
  },
  {
   "cell_type": "code",
   "execution_count": null,
   "metadata": {},
   "outputs": [],
   "source": []
  },
  {
   "cell_type": "code",
   "execution_count": null,
   "metadata": {},
   "outputs": [],
   "source": []
  },
  {
   "cell_type": "markdown",
   "metadata": {},
   "source": [
    "## Statistical Power"
   ]
  },
  {
   "cell_type": "code",
   "execution_count": 22,
   "metadata": {},
   "outputs": [],
   "source": [
    "#Get effect sizes for various values of n"
   ]
  },
  {
   "cell_type": "code",
   "execution_count": 23,
   "metadata": {},
   "outputs": [
    {
     "name": "stdout",
     "output_type": "stream",
     "text": [
      "Sample size = 50\n",
      "Effect size = 1.25\n",
      "Power       = 1.0\n"
     ]
    },
    {
     "data": {
      "image/png": "[encoded data removed]",
      "text/plain": [
       "<Figure size 864x576 with 1 Axes>"
      ]
     },
     "metadata": {},
     "output_type": "display_data"
    },
    {
     "name": "stdout",
     "output_type": "stream",
     "text": [
      "Effect size needed to get power=0.8: 0.5658803032224228\n"
     ]
    }
   ],
   "source": [
    "power_analysis = TTestIndPower()\n",
    "power = power_analysis.solve_power(effect_size=d,nobs1=sample_size,alpha=alpha)\n",
    "print(\"Sample size = {}\\nEffect size = {}\\nPower       = {}\".format(sample_size, np.round(d,3), np.round(power,3)))\n",
    "\n",
    "power_analysis.plot_power(dep_var='nobs',\n",
    "                         nobs=np.array(range(5,100)),\n",
    "                         effect_size=[0.1,0.25,0.5,1.0,2.0,d],\n",
    "                         alpha=alpha)\n",
    "plt.show()\n",
    "\n",
    "effect_size_needed = power_analysis.solve_power(power=0.8,nobs1=sample_size,alpha=alpha)\n",
    "print(\"Effect size needed to get power=0.8: {}\".format(effect_size_needed))"
   ]
  },
  {
   "cell_type": "code",
   "execution_count": null,
   "metadata": {},
   "outputs": [],
   "source": []
  }
 ],
 "metadata": {
  "kernelspec": {
   "display_name": "Python [conda env:learn-env] *",
   "language": "python",
   "name": "conda-env-learn-env-py"
  },
  "language_info": {
   "codemirror_mode": {
    "name": "ipython",
    "version": 3
   },
   "file_extension": ".py",
   "mimetype": "text/x-python",
   "name": "python",
   "nbconvert_exporter": "python",
   "pygments_lexer": "ipython3",
   "version": "3.6.6"
  }
 },
 "nbformat": 4,
 "nbformat_minor": 2
}
