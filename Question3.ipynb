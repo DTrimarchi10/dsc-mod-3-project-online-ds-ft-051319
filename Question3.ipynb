{
 "cells": [
  {
   "cell_type": "markdown",
   "metadata": {},
   "source": [
    "# Question 3\n",
    "\n",
    "Does sales rep have a significant effect on order revenue? Are certain sales reps getting higher average order prices and how does this compare to total revenue per sales rep? How does it compare to total number of sales per rep?\n",
    "\n",
    "This could provide insight into which sales reps are pushing for higher dollar sales vs. quantity of sales. The results may provide valueable information to management about rewards systems - quanity/quality of a sale. Also to help figure out who may be undervalued in the organization."
   ]
  },
  {
   "cell_type": "code",
   "execution_count": 1,
   "metadata": {},
   "outputs": [],
   "source": [
    "#import libraries\n",
    "import sqlite3\n",
    "import pandas as pd\n",
    "import numpy as np\n",
    "import matplotlib.pyplot as plt\n",
    "%matplotlib inline\n",
    "import seaborn as sns\n",
    "import statsmodels.api as sm\n",
    "from statsmodels.formula.api import ols\n",
    "\n",
    "#For tukey test\n",
    "from statsmodels.stats.multicomp import pairwise_tukeyhsd\n",
    "from statsmodels.stats.multicomp import MultiComparison\n",
    "\n",
    "#For KS Test\n",
    "from scipy import stats\n",
    "\n",
    "#For Sampling, Welch's T-Test, Cohen's d - flatiron_stats.py. I have updated with my own functions.\n",
    "from flatiron_stats import p_value_welch_ttest, welch_t, cohens_d, get_sampling_means\n",
    "\n",
    "#For SQL Helpter functions\n",
    "from flatiron_sql import view_table, get_table, get_table_names\n",
    "\n",
    "#For Power Analysis\n",
    "from statsmodels.stats.power import TTestIndPower, TTestPower\n",
    "\n",
    "#significance level\n",
    "alpha = 0.05"
   ]
  },
  {
   "cell_type": "code",
   "execution_count": 2,
   "metadata": {},
   "outputs": [],
   "source": [
    "#connect to the Northwind database\n",
    "conn = sqlite3.connect(\"Northwind_small.sqlite\")"
   ]
  },
  {
   "cell_type": "markdown",
   "metadata": {},
   "source": [
    "### Initial investigation into Employee Sales\n",
    "Number of employee roles are listed below:"
   ]
  },
  {
   "cell_type": "code",
   "execution_count": 3,
   "metadata": {},
   "outputs": [],
   "source": [
    "df = get_table('Employee',conn)"
   ]
  },
  {
   "cell_type": "code",
   "execution_count": 4,
   "metadata": {
    "scrolled": true
   },
   "outputs": [
    {
     "data": {
      "text/plain": [
       "Sales Representative        6\n",
       "Sales Manager               1\n",
       "Vice President, Sales       1\n",
       "Inside Sales Coordinator    1\n",
       "Name: Title, dtype: int64"
      ]
     },
     "execution_count": 4,
     "metadata": {},
     "output_type": "execute_result"
    }
   ],
   "source": [
    "df.Title.value_counts()"
   ]
  },
  {
   "cell_type": "markdown",
   "metadata": {},
   "source": [
    "I want to get the **OrderID**, **Total Order Price** (total for an order, not separated by indvidual product line item), and the **Employee** who handled the order.\n",
    "\n",
    "**Total Order Price is feature engineered through the SQL Query**"
   ]
  },
  {
   "cell_type": "code",
   "execution_count": 5,
   "metadata": {
    "scrolled": false
   },
   "outputs": [
    {
     "data": {
      "text/html": [
       "<div>\n",
       "<style scoped>\n",
       "    .dataframe tbody tr th:only-of-type {\n",
       "        vertical-align: middle;\n",
       "    }\n",
       "\n",
       "    .dataframe tbody tr th {\n",
       "        vertical-align: top;\n",
       "    }\n",
       "\n",
       "    .dataframe thead th {\n",
       "        text-align: right;\n",
       "    }\n",
       "</style>\n",
       "<table border=\"1\" class=\"dataframe\">\n",
       "  <thead>\n",
       "    <tr style=\"text-align: right;\">\n",
       "      <th></th>\n",
       "      <th>EmployeeId</th>\n",
       "      <th>LastName</th>\n",
       "      <th>FirstName</th>\n",
       "      <th>OrderId</th>\n",
       "      <th>ProductsPerOrder</th>\n",
       "      <th>TotalPrice</th>\n",
       "    </tr>\n",
       "  </thead>\n",
       "  <tbody>\n",
       "    <tr>\n",
       "      <th>0</th>\n",
       "      <td>5</td>\n",
       "      <td>Buchanan</td>\n",
       "      <td>Steven</td>\n",
       "      <td>10248</td>\n",
       "      <td>3</td>\n",
       "      <td>440.00</td>\n",
       "    </tr>\n",
       "    <tr>\n",
       "      <th>1</th>\n",
       "      <td>6</td>\n",
       "      <td>Suyama</td>\n",
       "      <td>Michael</td>\n",
       "      <td>10249</td>\n",
       "      <td>2</td>\n",
       "      <td>1863.40</td>\n",
       "    </tr>\n",
       "    <tr>\n",
       "      <th>2</th>\n",
       "      <td>4</td>\n",
       "      <td>Peacock</td>\n",
       "      <td>Margaret</td>\n",
       "      <td>10250</td>\n",
       "      <td>3</td>\n",
       "      <td>1552.60</td>\n",
       "    </tr>\n",
       "    <tr>\n",
       "      <th>3</th>\n",
       "      <td>3</td>\n",
       "      <td>Leverling</td>\n",
       "      <td>Janet</td>\n",
       "      <td>10251</td>\n",
       "      <td>3</td>\n",
       "      <td>654.06</td>\n",
       "    </tr>\n",
       "    <tr>\n",
       "      <th>4</th>\n",
       "      <td>4</td>\n",
       "      <td>Peacock</td>\n",
       "      <td>Margaret</td>\n",
       "      <td>10252</td>\n",
       "      <td>3</td>\n",
       "      <td>3597.90</td>\n",
       "    </tr>\n",
       "  </tbody>\n",
       "</table>\n",
       "</div>"
      ],
      "text/plain": [
       "   EmployeeId   LastName FirstName  OrderId  ProductsPerOrder  TotalPrice\n",
       "0           5   Buchanan    Steven    10248                 3      440.00\n",
       "1           6     Suyama   Michael    10249                 2     1863.40\n",
       "2           4    Peacock  Margaret    10250                 3     1552.60\n",
       "3           3  Leverling     Janet    10251                 3      654.06\n",
       "4           4    Peacock  Margaret    10252                 3     3597.90"
      ]
     },
     "execution_count": 5,
     "metadata": {},
     "output_type": "execute_result"
    }
   ],
   "source": [
    "#Tables needed: Order, OrderDetail, Employee\n",
    "query = f\"\"\"SELECT EmployeeId, LastName, FirstName, od.OrderId, \n",
    "                  count(od.OrderId) AS ProductsPerOrder, \n",
    "                  sum(UnitPrice * Quantity * (1-Discount)) AS TotalPrice\n",
    "            FROM \n",
    "            OrderDetail od \n",
    "            JOIN 'Order' o ON o.Id=od.OrderId\n",
    "            JOIN Employee e ON e.Id=o.EmployeeId\n",
    "            GROUP BY od.OrderId\n",
    "            \"\"\"\n",
    "df = pd.read_sql(query,conn)\n",
    "df.head()"
   ]
  },
  {
   "cell_type": "markdown",
   "metadata": {},
   "source": [
    "Checking to see how many orders there were for each employee... surprisingly, the managers also have quite a few sales."
   ]
  },
  {
   "cell_type": "code",
   "execution_count": 6,
   "metadata": {
    "scrolled": true
   },
   "outputs": [
    {
     "data": {
      "text/plain": [
       "4    156\n",
       "3    127\n",
       "1    123\n",
       "8    104\n",
       "2     96\n",
       "7     72\n",
       "6     67\n",
       "9     43\n",
       "5     42\n",
       "Name: EmployeeId, dtype: int64"
      ]
     },
     "execution_count": 6,
     "metadata": {},
     "output_type": "execute_result"
    }
   ],
   "source": [
    "df.EmployeeId.value_counts()"
   ]
  },
  {
   "cell_type": "markdown",
   "metadata": {},
   "source": [
    "## Hypothesis\n",
    "\n",
    "**Ho:** There is no difference in the mean order revenue for different sales representatives.\n",
    "\n",
    "**Ha:** The sales representative will have an effect on the mean order revenue. i.e. there will be a statistically significant difference in mean order revenue for at least one sales rep and his/her peers. two-tailed test\n",
    "\n"
   ]
  },
  {
   "cell_type": "markdown",
   "metadata": {
    "scrolled": false
   },
   "source": [
    "## Visualize the Data"
   ]
  },
  {
   "cell_type": "code",
   "execution_count": 7,
   "metadata": {
    "scrolled": false
   },
   "outputs": [
    {
     "data": {
      "text/plain": [
       "Text(0, 0.5, 'Total Order Price')"
      ]
     },
     "execution_count": 7,
     "metadata": {},
     "output_type": "execute_result"
    },
    {
     "data": {
      "image/png": "[encoded data removed]",
      "text/plain": [
       "<Figure size 864x576 with 1 Axes>"
      ]
     },
     "metadata": {},
     "output_type": "display_data"
    }
   ],
   "source": [
    "sns.set(rc={'figure.figsize':(12,8)})\n",
    "sns.boxplot(x='LastName',y='TotalPrice',data=df)\n",
    "plt.title('BoxPlots showing Total Order Price for Each Employee')\n",
    "plt.xlabel('Employee');\n",
    "plt.ylabel('Total Order Price')"
   ]
  },
  {
   "cell_type": "markdown",
   "metadata": {},
   "source": [
    "Dropping some outliers (any order greater than $5000) which equated to 31 orders"
   ]
  },
  {
   "cell_type": "code",
   "execution_count": 8,
   "metadata": {},
   "outputs": [],
   "source": [
    "df = df[df.TotalPrice<5000]"
   ]
  },
  {
   "cell_type": "code",
   "execution_count": 9,
   "metadata": {
    "scrolled": false
   },
   "outputs": [
    {
     "data": {
      "text/plain": [
       "Text(0, 0.5, 'Total Order Price')"
      ]
     },
     "execution_count": 9,
     "metadata": {},
     "output_type": "execute_result"
    },
    {
     "data": {
      "image/png": "[encoded data removed]",
      "text/plain": [
       "<Figure size 864x576 with 1 Axes>"
      ]
     },
     "metadata": {},
     "output_type": "display_data"
    }
   ],
   "source": [
    "sns.set(rc={'figure.figsize':(12,8)})\n",
    "sns.boxplot(x='LastName',y='TotalPrice',data=df)\n",
    "plt.title('Total Order Price for Each Employee')\n",
    "plt.xlabel('Employee');\n",
    "plt.ylabel('Total Order Price')"
   ]
  },
  {
   "cell_type": "markdown",
   "metadata": {},
   "source": [
    "## ANOVA Test"
   ]
  },
  {
   "cell_type": "code",
   "execution_count": 10,
   "metadata": {},
   "outputs": [
    {
     "name": "stdout",
     "output_type": "stream",
     "text": [
      "                   sum_sq     df         F    PR(>F)  reject_null\n",
      "C(LastName)  4.251645e+06    8.0  0.451587  0.889831        False\n",
      "Residual     9.297212e+08  790.0       NaN       NaN        False\n"
     ]
    }
   ],
   "source": [
    "#ANOVA TEST\n",
    "formula = \"TotalPrice ~ C(LastName)\"\n",
    "lm = ols(formula, df).fit()\n",
    "table = sm.stats.anova_lm(lm, typ=2)\n",
    "table['reject_null'] = table['PR(>F)'] < alpha\n",
    "print(table)"
   ]
  },
  {
   "cell_type": "markdown",
   "metadata": {},
   "source": [
    "## Tukey Test\n",
    "See how the employees compare to one-another in terms of Total Price per order"
   ]
  },
  {
   "cell_type": "code",
   "execution_count": 11,
   "metadata": {
    "scrolled": false
   },
   "outputs": [
    {
     "name": "stdout",
     "output_type": "stream",
     "text": [
      "Groups are Employees, summary stats are TotalPrice per Order\n",
      "\n",
      "Multiple Comparison of Means - Tukey HSD,FWER=0.05\n"
     ]
    },
    {
     "data": {
      "text/html": [
       "<div>\n",
       "<style scoped>\n",
       "    .dataframe tbody tr th:only-of-type {\n",
       "        vertical-align: middle;\n",
       "    }\n",
       "\n",
       "    .dataframe tbody tr th {\n",
       "        vertical-align: top;\n",
       "    }\n",
       "\n",
       "    .dataframe thead th {\n",
       "        text-align: right;\n",
       "    }\n",
       "</style>\n",
       "<table border=\"1\" class=\"dataframe\">\n",
       "  <thead>\n",
       "    <tr style=\"text-align: right;\">\n",
       "      <th></th>\n",
       "      <th>group1</th>\n",
       "      <th>group2</th>\n",
       "      <th>meandiff</th>\n",
       "      <th>lower</th>\n",
       "      <th>upper</th>\n",
       "      <th>reject</th>\n",
       "    </tr>\n",
       "  </thead>\n",
       "  <tbody>\n",
       "    <tr>\n",
       "      <th>0</th>\n",
       "      <td>Buchanan</td>\n",
       "      <td>Callahan</td>\n",
       "      <td>-107.8200</td>\n",
       "      <td>-735.6068</td>\n",
       "      <td>519.9668</td>\n",
       "      <td>False</td>\n",
       "    </tr>\n",
       "    <tr>\n",
       "      <th>1</th>\n",
       "      <td>Buchanan</td>\n",
       "      <td>Davolio</td>\n",
       "      <td>-0.8546</td>\n",
       "      <td>-617.5528</td>\n",
       "      <td>615.8437</td>\n",
       "      <td>False</td>\n",
       "    </tr>\n",
       "    <tr>\n",
       "      <th>2</th>\n",
       "      <td>Buchanan</td>\n",
       "      <td>Dodsworth</td>\n",
       "      <td>-86.6177</td>\n",
       "      <td>-845.9448</td>\n",
       "      <td>672.7093</td>\n",
       "      <td>False</td>\n",
       "    </tr>\n",
       "    <tr>\n",
       "      <th>3</th>\n",
       "      <td>Buchanan</td>\n",
       "      <td>Fuller</td>\n",
       "      <td>-64.3407</td>\n",
       "      <td>-704.4624</td>\n",
       "      <td>575.7810</td>\n",
       "      <td>False</td>\n",
       "    </tr>\n",
       "    <tr>\n",
       "      <th>4</th>\n",
       "      <td>Buchanan</td>\n",
       "      <td>King</td>\n",
       "      <td>-82.8995</td>\n",
       "      <td>-757.1203</td>\n",
       "      <td>591.3212</td>\n",
       "      <td>False</td>\n",
       "    </tr>\n",
       "    <tr>\n",
       "      <th>5</th>\n",
       "      <td>Buchanan</td>\n",
       "      <td>Leverling</td>\n",
       "      <td>-169.0798</td>\n",
       "      <td>-785.1313</td>\n",
       "      <td>446.9716</td>\n",
       "      <td>False</td>\n",
       "    </tr>\n",
       "    <tr>\n",
       "      <th>6</th>\n",
       "      <td>Buchanan</td>\n",
       "      <td>Peacock</td>\n",
       "      <td>-7.5983</td>\n",
       "      <td>-607.2187</td>\n",
       "      <td>592.0222</td>\n",
       "      <td>False</td>\n",
       "    </tr>\n",
       "    <tr>\n",
       "      <th>7</th>\n",
       "      <td>Buchanan</td>\n",
       "      <td>Suyama</td>\n",
       "      <td>-224.4685</td>\n",
       "      <td>-898.6893</td>\n",
       "      <td>449.7522</td>\n",
       "      <td>False</td>\n",
       "    </tr>\n",
       "    <tr>\n",
       "      <th>8</th>\n",
       "      <td>Callahan</td>\n",
       "      <td>Davolio</td>\n",
       "      <td>106.9654</td>\n",
       "      <td>-345.9738</td>\n",
       "      <td>559.9046</td>\n",
       "      <td>False</td>\n",
       "    </tr>\n",
       "    <tr>\n",
       "      <th>9</th>\n",
       "      <td>Callahan</td>\n",
       "      <td>Dodsworth</td>\n",
       "      <td>21.2022</td>\n",
       "      <td>-612.3708</td>\n",
       "      <td>654.7752</td>\n",
       "      <td>False</td>\n",
       "    </tr>\n",
       "    <tr>\n",
       "      <th>10</th>\n",
       "      <td>Callahan</td>\n",
       "      <td>Fuller</td>\n",
       "      <td>43.4793</td>\n",
       "      <td>-440.8688</td>\n",
       "      <td>527.8273</td>\n",
       "      <td>False</td>\n",
       "    </tr>\n",
       "    <tr>\n",
       "      <th>11</th>\n",
       "      <td>Callahan</td>\n",
       "      <td>King</td>\n",
       "      <td>24.9204</td>\n",
       "      <td>-503.6728</td>\n",
       "      <td>553.5137</td>\n",
       "      <td>False</td>\n",
       "    </tr>\n",
       "    <tr>\n",
       "      <th>12</th>\n",
       "      <td>Callahan</td>\n",
       "      <td>Leverling</td>\n",
       "      <td>-61.2599</td>\n",
       "      <td>-513.3180</td>\n",
       "      <td>390.7983</td>\n",
       "      <td>False</td>\n",
       "    </tr>\n",
       "    <tr>\n",
       "      <th>13</th>\n",
       "      <td>Callahan</td>\n",
       "      <td>Peacock</td>\n",
       "      <td>100.2217</td>\n",
       "      <td>-329.1754</td>\n",
       "      <td>529.6188</td>\n",
       "      <td>False</td>\n",
       "    </tr>\n",
       "    <tr>\n",
       "      <th>14</th>\n",
       "      <td>Callahan</td>\n",
       "      <td>Suyama</td>\n",
       "      <td>-116.6486</td>\n",
       "      <td>-645.2418</td>\n",
       "      <td>411.9447</td>\n",
       "      <td>False</td>\n",
       "    </tr>\n",
       "    <tr>\n",
       "      <th>15</th>\n",
       "      <td>Davolio</td>\n",
       "      <td>Dodsworth</td>\n",
       "      <td>-85.7632</td>\n",
       "      <td>-708.3506</td>\n",
       "      <td>536.8243</td>\n",
       "      <td>False</td>\n",
       "    </tr>\n",
       "    <tr>\n",
       "      <th>16</th>\n",
       "      <td>Davolio</td>\n",
       "      <td>Fuller</td>\n",
       "      <td>-63.4861</td>\n",
       "      <td>-533.3728</td>\n",
       "      <td>406.4005</td>\n",
       "      <td>False</td>\n",
       "    </tr>\n",
       "    <tr>\n",
       "      <th>17</th>\n",
       "      <td>Davolio</td>\n",
       "      <td>King</td>\n",
       "      <td>-82.0450</td>\n",
       "      <td>-597.4198</td>\n",
       "      <td>433.3299</td>\n",
       "      <td>False</td>\n",
       "    </tr>\n",
       "    <tr>\n",
       "      <th>18</th>\n",
       "      <td>Davolio</td>\n",
       "      <td>Leverling</td>\n",
       "      <td>-168.2253</td>\n",
       "      <td>-604.7536</td>\n",
       "      <td>268.3031</td>\n",
       "      <td>False</td>\n",
       "    </tr>\n",
       "    <tr>\n",
       "      <th>19</th>\n",
       "      <td>Davolio</td>\n",
       "      <td>Peacock</td>\n",
       "      <td>-6.7437</td>\n",
       "      <td>-419.7598</td>\n",
       "      <td>406.2724</td>\n",
       "      <td>False</td>\n",
       "    </tr>\n",
       "    <tr>\n",
       "      <th>20</th>\n",
       "      <td>Davolio</td>\n",
       "      <td>Suyama</td>\n",
       "      <td>-223.6140</td>\n",
       "      <td>-738.9888</td>\n",
       "      <td>291.7609</td>\n",
       "      <td>False</td>\n",
       "    </tr>\n",
       "    <tr>\n",
       "      <th>21</th>\n",
       "      <td>Dodsworth</td>\n",
       "      <td>Fuller</td>\n",
       "      <td>22.2770</td>\n",
       "      <td>-623.5204</td>\n",
       "      <td>668.0744</td>\n",
       "      <td>False</td>\n",
       "    </tr>\n",
       "    <tr>\n",
       "      <th>22</th>\n",
       "      <td>Dodsworth</td>\n",
       "      <td>King</td>\n",
       "      <td>3.7182</td>\n",
       "      <td>-675.8935</td>\n",
       "      <td>683.3299</td>\n",
       "      <td>False</td>\n",
       "    </tr>\n",
       "    <tr>\n",
       "      <th>23</th>\n",
       "      <td>Dodsworth</td>\n",
       "      <td>Leverling</td>\n",
       "      <td>-82.4621</td>\n",
       "      <td>-704.4089</td>\n",
       "      <td>539.4847</td>\n",
       "      <td>False</td>\n",
       "    </tr>\n",
       "    <tr>\n",
       "      <th>24</th>\n",
       "      <td>Dodsworth</td>\n",
       "      <td>Peacock</td>\n",
       "      <td>79.0195</td>\n",
       "      <td>-526.6563</td>\n",
       "      <td>684.6952</td>\n",
       "      <td>False</td>\n",
       "    </tr>\n",
       "    <tr>\n",
       "      <th>25</th>\n",
       "      <td>Dodsworth</td>\n",
       "      <td>Suyama</td>\n",
       "      <td>-137.8508</td>\n",
       "      <td>-817.4625</td>\n",
       "      <td>541.7609</td>\n",
       "      <td>False</td>\n",
       "    </tr>\n",
       "    <tr>\n",
       "      <th>26</th>\n",
       "      <td>Fuller</td>\n",
       "      <td>King</td>\n",
       "      <td>-18.5588</td>\n",
       "      <td>-561.7442</td>\n",
       "      <td>524.6266</td>\n",
       "      <td>False</td>\n",
       "    </tr>\n",
       "    <tr>\n",
       "      <th>27</th>\n",
       "      <td>Fuller</td>\n",
       "      <td>Leverling</td>\n",
       "      <td>-104.7391</td>\n",
       "      <td>-573.7766</td>\n",
       "      <td>364.2983</td>\n",
       "      <td>False</td>\n",
       "    </tr>\n",
       "    <tr>\n",
       "      <th>28</th>\n",
       "      <td>Fuller</td>\n",
       "      <td>Peacock</td>\n",
       "      <td>56.7424</td>\n",
       "      <td>-390.4951</td>\n",
       "      <td>503.9800</td>\n",
       "      <td>False</td>\n",
       "    </tr>\n",
       "    <tr>\n",
       "      <th>29</th>\n",
       "      <td>Fuller</td>\n",
       "      <td>Suyama</td>\n",
       "      <td>-160.1278</td>\n",
       "      <td>-703.3132</td>\n",
       "      <td>383.0576</td>\n",
       "      <td>False</td>\n",
       "    </tr>\n",
       "    <tr>\n",
       "      <th>30</th>\n",
       "      <td>King</td>\n",
       "      <td>Leverling</td>\n",
       "      <td>-86.1803</td>\n",
       "      <td>-600.7810</td>\n",
       "      <td>428.4204</td>\n",
       "      <td>False</td>\n",
       "    </tr>\n",
       "    <tr>\n",
       "      <th>31</th>\n",
       "      <td>King</td>\n",
       "      <td>Peacock</td>\n",
       "      <td>75.3013</td>\n",
       "      <td>-419.5110</td>\n",
       "      <td>570.1135</td>\n",
       "      <td>False</td>\n",
       "    </tr>\n",
       "    <tr>\n",
       "      <th>32</th>\n",
       "      <td>King</td>\n",
       "      <td>Suyama</td>\n",
       "      <td>-141.5690</td>\n",
       "      <td>-724.5511</td>\n",
       "      <td>441.4131</td>\n",
       "      <td>False</td>\n",
       "    </tr>\n",
       "    <tr>\n",
       "      <th>33</th>\n",
       "      <td>Leverling</td>\n",
       "      <td>Peacock</td>\n",
       "      <td>161.4816</td>\n",
       "      <td>-250.5682</td>\n",
       "      <td>573.5313</td>\n",
       "      <td>False</td>\n",
       "    </tr>\n",
       "    <tr>\n",
       "      <th>34</th>\n",
       "      <td>Leverling</td>\n",
       "      <td>Suyama</td>\n",
       "      <td>-55.3887</td>\n",
       "      <td>-569.9894</td>\n",
       "      <td>459.2120</td>\n",
       "      <td>False</td>\n",
       "    </tr>\n",
       "    <tr>\n",
       "      <th>35</th>\n",
       "      <td>Peacock</td>\n",
       "      <td>Suyama</td>\n",
       "      <td>-216.8703</td>\n",
       "      <td>-711.6825</td>\n",
       "      <td>277.9420</td>\n",
       "      <td>False</td>\n",
       "    </tr>\n",
       "  </tbody>\n",
       "</table>\n",
       "</div>"
      ],
      "text/plain": [
       "       group1     group2  meandiff     lower     upper  reject\n",
       "0    Buchanan   Callahan -107.8200 -735.6068  519.9668   False\n",
       "1    Buchanan    Davolio   -0.8546 -617.5528  615.8437   False\n",
       "2    Buchanan  Dodsworth  -86.6177 -845.9448  672.7093   False\n",
       "3    Buchanan     Fuller  -64.3407 -704.4624  575.7810   False\n",
       "4    Buchanan       King  -82.8995 -757.1203  591.3212   False\n",
       "5    Buchanan  Leverling -169.0798 -785.1313  446.9716   False\n",
       "6    Buchanan    Peacock   -7.5983 -607.2187  592.0222   False\n",
       "7    Buchanan     Suyama -224.4685 -898.6893  449.7522   False\n",
       "8    Callahan    Davolio  106.9654 -345.9738  559.9046   False\n",
       "9    Callahan  Dodsworth   21.2022 -612.3708  654.7752   False\n",
       "10   Callahan     Fuller   43.4793 -440.8688  527.8273   False\n",
       "11   Callahan       King   24.9204 -503.6728  553.5137   False\n",
       "12   Callahan  Leverling  -61.2599 -513.3180  390.7983   False\n",
       "13   Callahan    Peacock  100.2217 -329.1754  529.6188   False\n",
       "14   Callahan     Suyama -116.6486 -645.2418  411.9447   False\n",
       "15    Davolio  Dodsworth  -85.7632 -708.3506  536.8243   False\n",
       "16    Davolio     Fuller  -63.4861 -533.3728  406.4005   False\n",
       "17    Davolio       King  -82.0450 -597.4198  433.3299   False\n",
       "18    Davolio  Leverling -168.2253 -604.7536  268.3031   False\n",
       "19    Davolio    Peacock   -6.7437 -419.7598  406.2724   False\n",
       "20    Davolio     Suyama -223.6140 -738.9888  291.7609   False\n",
       "21  Dodsworth     Fuller   22.2770 -623.5204  668.0744   False\n",
       "22  Dodsworth       King    3.7182 -675.8935  683.3299   False\n",
       "23  Dodsworth  Leverling  -82.4621 -704.4089  539.4847   False\n",
       "24  Dodsworth    Peacock   79.0195 -526.6563  684.6952   False\n",
       "25  Dodsworth     Suyama -137.8508 -817.4625  541.7609   False\n",
       "26     Fuller       King  -18.5588 -561.7442  524.6266   False\n",
       "27     Fuller  Leverling -104.7391 -573.7766  364.2983   False\n",
       "28     Fuller    Peacock   56.7424 -390.4951  503.9800   False\n",
       "29     Fuller     Suyama -160.1278 -703.3132  383.0576   False\n",
       "30       King  Leverling  -86.1803 -600.7810  428.4204   False\n",
       "31       King    Peacock   75.3013 -419.5110  570.1135   False\n",
       "32       King     Suyama -141.5690 -724.5511  441.4131   False\n",
       "33  Leverling    Peacock  161.4816 -250.5682  573.5313   False\n",
       "34  Leverling     Suyama  -55.3887 -569.9894  459.2120   False\n",
       "35    Peacock     Suyama -216.8703 -711.6825  277.9420   False"
      ]
     },
     "execution_count": 11,
     "metadata": {},
     "output_type": "execute_result"
    }
   ],
   "source": [
    "#TUKEY TEST\n",
    "mc = MultiComparison(df['TotalPrice'], df['LastName'])\n",
    "result = mc.tukeyhsd()\n",
    "print(\"Groups are Employees, summary stats are TotalPrice per Order\\n\")\n",
    "#Convert result to dataframe for prettiness and to only show the comparisons that include no-discount\n",
    "result_df = pd.DataFrame(data=result._results_table.data[1:], columns=result._results_table.data[0])\n",
    "print(\"Multiple Comparison of Means - Tukey HSD,FWER=0.05\")\n",
    "result_df"
   ]
  },
  {
   "cell_type": "markdown",
   "metadata": {},
   "source": [
    "## Histogram of Distributions"
   ]
  },
  {
   "cell_type": "code",
   "execution_count": 12,
   "metadata": {},
   "outputs": [],
   "source": [
    "employees = ['Davolio','Fuller','Leverling','Peacock','Buchanan','Suyama','King','Callahan','Dodsworth']\n",
    "employee_order_totals = []\n",
    "for employee in employees:\n",
    "    employee_order_totals.append(df.TotalPrice[df.LastName==employee])"
   ]
  },
  {
   "cell_type": "code",
   "execution_count": 13,
   "metadata": {
    "scrolled": false
   },
   "outputs": [
    {
     "name": "stderr",
     "output_type": "stream",
     "text": [
      "/Users/dennistrimarchi/anaconda3/envs/learn-env/lib/python3.6/site-packages/scipy/stats/stats.py:1713: FutureWarning: Using a non-tuple sequence for multidimensional indexing is deprecated; use `arr[tuple(seq)]` instead of `arr[seq]`. In the future this will be interpreted as an array index, `arr[np.array(seq)]`, which will result either in an error or a different result.\n",
      "  return np.add.reduce(sorted[indexer] * weights, axis=axis) / sumval\n"
     ]
    },
    {
     "data": {
      "text/plain": [
       "<matplotlib.legend.Legend at 0x1c20a12cf8>"
      ]
     },
     "execution_count": 13,
     "metadata": {},
     "output_type": "execute_result"
    },
    {
     "data": {
      "image/png": "[encoded data removed]",
      "text/plain": [
       "<Figure size 864x576 with 1 Axes>"
      ]
     },
     "metadata": {},
     "output_type": "display_data"
    }
   ],
   "source": [
    "sns.set(rc={'figure.figsize':(12,8)})\n",
    "for order_total in zip(employee_order_totals,employees):\n",
    "    sns.distplot(order_total[0], label=order_total[1])\n",
    "plt.title('Histogram of Total Order Price')\n",
    "plt.legend()"
   ]
  },
  {
   "cell_type": "markdown",
   "metadata": {},
   "source": [
    "The sales reps are getting similar revenues per order. There is no statistically significant difference between sales reps. No one sales rep is selling more per order.\n",
    "\n",
    "Let's investigate total sales per sales rep, just as a curiosity."
   ]
  },
  {
   "cell_type": "code",
   "execution_count": 14,
   "metadata": {},
   "outputs": [
    {
     "data": {
      "text/html": [
       "<div>\n",
       "<style scoped>\n",
       "    .dataframe tbody tr th:only-of-type {\n",
       "        vertical-align: middle;\n",
       "    }\n",
       "\n",
       "    .dataframe tbody tr th {\n",
       "        vertical-align: top;\n",
       "    }\n",
       "\n",
       "    .dataframe thead th {\n",
       "        text-align: right;\n",
       "    }\n",
       "</style>\n",
       "<table border=\"1\" class=\"dataframe\">\n",
       "  <thead>\n",
       "    <tr style=\"text-align: right;\">\n",
       "      <th></th>\n",
       "      <th>EmployeeId</th>\n",
       "      <th>LastName</th>\n",
       "      <th>FirstName</th>\n",
       "      <th>NumOrders</th>\n",
       "      <th>TotalSales</th>\n",
       "    </tr>\n",
       "  </thead>\n",
       "  <tbody>\n",
       "    <tr>\n",
       "      <th>0</th>\n",
       "      <td>1</td>\n",
       "      <td>Davolio</td>\n",
       "      <td>Nancy</td>\n",
       "      <td>123</td>\n",
       "      <td>192107.6045</td>\n",
       "    </tr>\n",
       "    <tr>\n",
       "      <th>1</th>\n",
       "      <td>2</td>\n",
       "      <td>Fuller</td>\n",
       "      <td>Andrew</td>\n",
       "      <td>96</td>\n",
       "      <td>166537.7550</td>\n",
       "    </tr>\n",
       "    <tr>\n",
       "      <th>2</th>\n",
       "      <td>3</td>\n",
       "      <td>Leverling</td>\n",
       "      <td>Janet</td>\n",
       "      <td>127</td>\n",
       "      <td>202812.8430</td>\n",
       "    </tr>\n",
       "    <tr>\n",
       "      <th>3</th>\n",
       "      <td>4</td>\n",
       "      <td>Peacock</td>\n",
       "      <td>Margaret</td>\n",
       "      <td>156</td>\n",
       "      <td>232890.8460</td>\n",
       "    </tr>\n",
       "    <tr>\n",
       "      <th>4</th>\n",
       "      <td>5</td>\n",
       "      <td>Buchanan</td>\n",
       "      <td>Steven</td>\n",
       "      <td>42</td>\n",
       "      <td>68792.2825</td>\n",
       "    </tr>\n",
       "    <tr>\n",
       "      <th>5</th>\n",
       "      <td>6</td>\n",
       "      <td>Suyama</td>\n",
       "      <td>Michael</td>\n",
       "      <td>67</td>\n",
       "      <td>73913.1295</td>\n",
       "    </tr>\n",
       "    <tr>\n",
       "      <th>6</th>\n",
       "      <td>7</td>\n",
       "      <td>King</td>\n",
       "      <td>Robert</td>\n",
       "      <td>72</td>\n",
       "      <td>124568.2350</td>\n",
       "    </tr>\n",
       "    <tr>\n",
       "      <th>7</th>\n",
       "      <td>8</td>\n",
       "      <td>Callahan</td>\n",
       "      <td>Laura</td>\n",
       "      <td>104</td>\n",
       "      <td>126862.2775</td>\n",
       "    </tr>\n",
       "    <tr>\n",
       "      <th>8</th>\n",
       "      <td>9</td>\n",
       "      <td>Dodsworth</td>\n",
       "      <td>Anne</td>\n",
       "      <td>43</td>\n",
       "      <td>77308.0665</td>\n",
       "    </tr>\n",
       "  </tbody>\n",
       "</table>\n",
       "</div>"
      ],
      "text/plain": [
       "   EmployeeId   LastName FirstName  NumOrders   TotalSales\n",
       "0           1    Davolio     Nancy        123  192107.6045\n",
       "1           2     Fuller    Andrew         96  166537.7550\n",
       "2           3  Leverling     Janet        127  202812.8430\n",
       "3           4    Peacock  Margaret        156  232890.8460\n",
       "4           5   Buchanan    Steven         42   68792.2825\n",
       "5           6     Suyama   Michael         67   73913.1295\n",
       "6           7       King    Robert         72  124568.2350\n",
       "7           8   Callahan     Laura        104  126862.2775\n",
       "8           9  Dodsworth      Anne         43   77308.0665"
      ]
     },
     "execution_count": 14,
     "metadata": {},
     "output_type": "execute_result"
    }
   ],
   "source": [
    "#Tables needed: Order, OrderDetail, Employee\n",
    "query = \"\"\"SELECT EmployeeId, LastName, FirstName, \n",
    "                  count(DISTINCT od.OrderId) AS NumOrders, \n",
    "                  sum(od.UnitPrice * od.Quantity * (1-od.Discount)) AS TotalSales\n",
    "           FROM \n",
    "           OrderDetail od \n",
    "           JOIN 'Order' o ON o.Id=od.OrderId\n",
    "           JOIN Employee e ON e.Id=o.EmployeeId\n",
    "           GROUP BY EmployeeId\n",
    "           \"\"\"\n",
    "summary_df = pd.read_sql(query,conn)\n",
    "summary_df"
   ]
  },
  {
   "cell_type": "markdown",
   "metadata": {},
   "source": [
    "## Conclusion\n",
    "Even though some of the employees have a higher number of orders and higher Total Revenue, the quality of their orders remain similar. No one employee stands out here. The difference in total sales per employee is impacted more by number of orders.\n",
    "\n",
    "Limitations - The total sales per employee may indicate proficiency in generating orders. However we do not know how long each employee has been selling, or the time frame that this data has been collected."
   ]
  },
  {
   "cell_type": "code",
   "execution_count": null,
   "metadata": {},
   "outputs": [],
   "source": []
  }
 ],
 "metadata": {
  "kernelspec": {
   "display_name": "Python [conda env:learn-env] *",
   "language": "python",
   "name": "conda-env-learn-env-py"
  },
  "language_info": {
   "codemirror_mode": {
    "name": "ipython",
    "version": 3
   },
   "file_extension": ".py",
   "mimetype": "text/x-python",
   "name": "python",
   "nbconvert_exporter": "python",
   "pygments_lexer": "ipython3",
   "version": "3.6.6"
  }
 },
 "nbformat": 4,
 "nbformat_minor": 2
}
